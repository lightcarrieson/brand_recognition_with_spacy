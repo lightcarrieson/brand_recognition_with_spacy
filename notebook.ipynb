{
  "nbformat": 4,
  "nbformat_minor": 0,
  "metadata": {
    "colab": {
      "provenance": []
    },
    "kernelspec": {
      "name": "python3",
      "display_name": "Python 3"
    },
    "language_info": {
      "name": "python"
    },
    "gpuClass": "standard"
  },
  "cells": [
    {
      "cell_type": "code",
      "source": [
        "!wget dataset_ozon.tsv https://raw.githubusercontent.com/ustera/brand_ner/main/dataset_ozon.tsv"
      ],
      "metadata": {
        "colab": {
          "base_uri": "https://localhost:8080/"
        },
        "id": "F268NQM4Pd2M",
        "outputId": "68ae1a18-5ff0-4e61-f86e-f4c1e24d023f"
      },
      "execution_count": 1,
      "outputs": [
        {
          "output_type": "stream",
          "name": "stdout",
          "text": [
            "--2023-03-21 16:13:12--  http://dataset_ozon.tsv/\n",
            "Resolving dataset_ozon.tsv (dataset_ozon.tsv)... failed: Name or service not known.\n",
            "wget: unable to resolve host address ‘dataset_ozon.tsv’\n",
            "--2023-03-21 16:13:12--  https://raw.githubusercontent.com/ustera/brand_ner/main/dataset_ozon.tsv\n",
            "Resolving raw.githubusercontent.com (raw.githubusercontent.com)... 185.199.108.133, 185.199.109.133, 185.199.110.133, ...\n",
            "Connecting to raw.githubusercontent.com (raw.githubusercontent.com)|185.199.108.133|:443... connected.\n",
            "HTTP request sent, awaiting response... 200 OK\n",
            "Length: 9640627 (9.2M) [text/plain]\n",
            "Saving to: ‘dataset_ozon.tsv.1’\n",
            "\n",
            "\rdataset_ozon.tsv.1    0%[                    ]       0  --.-KB/s               \rdataset_ozon.tsv.1  100%[===================>]   9.19M  --.-KB/s    in 0.03s   \n",
            "\n",
            "2023-03-21 16:13:12 (283 MB/s) - ‘dataset_ozon.tsv.1’ saved [9640627/9640627]\n",
            "\n",
            "FINISHED --2023-03-21 16:13:12--\n",
            "Total wall clock time: 0.2s\n",
            "Downloaded: 1 files, 9.2M in 0.03s (283 MB/s)\n"
          ]
        }
      ]
    },
    {
      "cell_type": "code",
      "execution_count": 2,
      "metadata": {
        "colab": {
          "base_uri": "https://localhost:8080/"
        },
        "id": "LDP0-tri9r_E",
        "outputId": "8780b306-2ef2-480d-926b-37419d31db81"
      },
      "outputs": [
        {
          "output_type": "stream",
          "name": "stderr",
          "text": [
            "/usr/local/lib/python3.9/dist-packages/torch/cuda/__init__.py:497: UserWarning: Can't initialize NVML\n",
            "  warnings.warn(\"Can't initialize NVML\")\n"
          ]
        }
      ],
      "source": [
        "import pandas as pd\n",
        "import numpy as np\n",
        "from tqdm import tqdm\n",
        "import spacy\n",
        "import json\n",
        "from sklearn.model_selection import train_test_split\n",
        "from spacy.tokens import DocBin\n",
        "import srsly\n",
        "from re import sub\n",
        "from string import punctuation\n",
        "tqdm.pandas()"
      ]
    },
    {
      "cell_type": "code",
      "source": [
        "!python3 -m spacy download ru_core_news_lg"
      ],
      "metadata": {
        "colab": {
          "base_uri": "https://localhost:8080/"
        },
        "id": "1a5jMt96cF-T",
        "outputId": "6e2569c1-e1ff-4cb5-c42e-86ce1725f1a7"
      },
      "execution_count": 3,
      "outputs": [
        {
          "output_type": "stream",
          "name": "stdout",
          "text": [
            "/usr/local/lib/python3.9/dist-packages/torch/cuda/__init__.py:497: UserWarning: Can't initialize NVML\n",
            "  warnings.warn(\"Can't initialize NVML\")\n",
            "2023-03-21 16:13:27.329936: W tensorflow/compiler/xla/stream_executor/platform/default/dso_loader.cc:64] Could not load dynamic library 'libnvinfer.so.7'; dlerror: libnvinfer.so.7: cannot open shared object file: No such file or directory; LD_LIBRARY_PATH: /usr/local/nvidia/lib:/usr/local/nvidia/lib64\n",
            "2023-03-21 16:13:27.330074: W tensorflow/compiler/xla/stream_executor/platform/default/dso_loader.cc:64] Could not load dynamic library 'libnvinfer_plugin.so.7'; dlerror: libnvinfer_plugin.so.7: cannot open shared object file: No such file or directory; LD_LIBRARY_PATH: /usr/local/nvidia/lib:/usr/local/nvidia/lib64\n",
            "2023-03-21 16:13:27.330101: W tensorflow/compiler/tf2tensorrt/utils/py_utils.cc:38] TF-TRT Warning: Cannot dlopen some TensorRT libraries. If you would like to use Nvidia GPU with TensorRT, please make sure the missing libraries mentioned above are installed properly.\n",
            "2023-03-21 16:13:29.294558: E tensorflow/compiler/xla/stream_executor/cuda/cuda_driver.cc:267] failed call to cuInit: CUDA_ERROR_NO_DEVICE: no CUDA-capable device is detected\n",
            "Looking in indexes: https://pypi.org/simple, https://us-python.pkg.dev/colab-wheels/public/simple/\n",
            "Collecting ru-core-news-lg==3.5.0\n",
            "  Downloading https://github.com/explosion/spacy-models/releases/download/ru_core_news_lg-3.5.0/ru_core_news_lg-3.5.0-py3-none-any.whl (513.4 MB)\n",
            "\u001b[2K     \u001b[90m━━━━━━━━━━━━━━━━━━━━━━━━━━━━━━━━━━━━━━━\u001b[0m \u001b[32m513.4/513.4 MB\u001b[0m \u001b[31m2.2 MB/s\u001b[0m eta \u001b[36m0:00:00\u001b[0m\n",
            "\u001b[?25hRequirement already satisfied: spacy<3.6.0,>=3.5.0 in /usr/local/lib/python3.9/dist-packages (from ru-core-news-lg==3.5.0) (3.5.1)\n",
            "Requirement already satisfied: pymorphy3>=1.0.0 in /usr/local/lib/python3.9/dist-packages (from ru-core-news-lg==3.5.0) (1.2.0)\n",
            "Requirement already satisfied: dawg-python>=0.7.1 in /usr/local/lib/python3.9/dist-packages (from pymorphy3>=1.0.0->ru-core-news-lg==3.5.0) (0.7.2)\n",
            "Requirement already satisfied: pymorphy3-dicts-ru in /usr/local/lib/python3.9/dist-packages (from pymorphy3>=1.0.0->ru-core-news-lg==3.5.0) (2.4.417150.4580142)\n",
            "Requirement already satisfied: docopt>=0.6 in /usr/local/lib/python3.9/dist-packages (from pymorphy3>=1.0.0->ru-core-news-lg==3.5.0) (0.6.2)\n",
            "Requirement already satisfied: langcodes<4.0.0,>=3.2.0 in /usr/local/lib/python3.9/dist-packages (from spacy<3.6.0,>=3.5.0->ru-core-news-lg==3.5.0) (3.3.0)\n",
            "Requirement already satisfied: packaging>=20.0 in /usr/local/lib/python3.9/dist-packages (from spacy<3.6.0,>=3.5.0->ru-core-news-lg==3.5.0) (23.0)\n",
            "Requirement already satisfied: srsly<3.0.0,>=2.4.3 in /usr/local/lib/python3.9/dist-packages (from spacy<3.6.0,>=3.5.0->ru-core-news-lg==3.5.0) (2.4.6)\n",
            "Requirement already satisfied: spacy-legacy<3.1.0,>=3.0.11 in /usr/local/lib/python3.9/dist-packages (from spacy<3.6.0,>=3.5.0->ru-core-news-lg==3.5.0) (3.0.12)\n",
            "Requirement already satisfied: pydantic!=1.8,!=1.8.1,<1.11.0,>=1.7.4 in /usr/local/lib/python3.9/dist-packages (from spacy<3.6.0,>=3.5.0->ru-core-news-lg==3.5.0) (1.10.6)\n",
            "Requirement already satisfied: thinc<8.2.0,>=8.1.8 in /usr/local/lib/python3.9/dist-packages (from spacy<3.6.0,>=3.5.0->ru-core-news-lg==3.5.0) (8.1.9)\n",
            "Requirement already satisfied: jinja2 in /usr/local/lib/python3.9/dist-packages (from spacy<3.6.0,>=3.5.0->ru-core-news-lg==3.5.0) (3.1.2)\n",
            "Requirement already satisfied: cymem<2.1.0,>=2.0.2 in /usr/local/lib/python3.9/dist-packages (from spacy<3.6.0,>=3.5.0->ru-core-news-lg==3.5.0) (2.0.7)\n",
            "Requirement already satisfied: spacy-loggers<2.0.0,>=1.0.0 in /usr/local/lib/python3.9/dist-packages (from spacy<3.6.0,>=3.5.0->ru-core-news-lg==3.5.0) (1.0.4)\n",
            "Requirement already satisfied: wasabi<1.2.0,>=0.9.1 in /usr/local/lib/python3.9/dist-packages (from spacy<3.6.0,>=3.5.0->ru-core-news-lg==3.5.0) (1.1.1)\n",
            "Requirement already satisfied: setuptools in /usr/local/lib/python3.9/dist-packages (from spacy<3.6.0,>=3.5.0->ru-core-news-lg==3.5.0) (63.4.3)\n",
            "Requirement already satisfied: typer<0.8.0,>=0.3.0 in /usr/local/lib/python3.9/dist-packages (from spacy<3.6.0,>=3.5.0->ru-core-news-lg==3.5.0) (0.7.0)\n",
            "Requirement already satisfied: pathy>=0.10.0 in /usr/local/lib/python3.9/dist-packages (from spacy<3.6.0,>=3.5.0->ru-core-news-lg==3.5.0) (0.10.1)\n",
            "Requirement already satisfied: murmurhash<1.1.0,>=0.28.0 in /usr/local/lib/python3.9/dist-packages (from spacy<3.6.0,>=3.5.0->ru-core-news-lg==3.5.0) (1.0.9)\n",
            "Requirement already satisfied: numpy>=1.15.0 in /usr/local/lib/python3.9/dist-packages (from spacy<3.6.0,>=3.5.0->ru-core-news-lg==3.5.0) (1.22.4)\n",
            "Requirement already satisfied: requests<3.0.0,>=2.13.0 in /usr/local/lib/python3.9/dist-packages (from spacy<3.6.0,>=3.5.0->ru-core-news-lg==3.5.0) (2.27.1)\n",
            "Requirement already satisfied: catalogue<2.1.0,>=2.0.6 in /usr/local/lib/python3.9/dist-packages (from spacy<3.6.0,>=3.5.0->ru-core-news-lg==3.5.0) (2.0.8)\n",
            "Requirement already satisfied: tqdm<5.0.0,>=4.38.0 in /usr/local/lib/python3.9/dist-packages (from spacy<3.6.0,>=3.5.0->ru-core-news-lg==3.5.0) (4.65.0)\n",
            "Requirement already satisfied: smart-open<7.0.0,>=5.2.1 in /usr/local/lib/python3.9/dist-packages (from spacy<3.6.0,>=3.5.0->ru-core-news-lg==3.5.0) (6.3.0)\n",
            "Requirement already satisfied: preshed<3.1.0,>=3.0.2 in /usr/local/lib/python3.9/dist-packages (from spacy<3.6.0,>=3.5.0->ru-core-news-lg==3.5.0) (3.0.8)\n",
            "Requirement already satisfied: typing-extensions>=4.2.0 in /usr/local/lib/python3.9/dist-packages (from pydantic!=1.8,!=1.8.1,<1.11.0,>=1.7.4->spacy<3.6.0,>=3.5.0->ru-core-news-lg==3.5.0) (4.5.0)\n",
            "Requirement already satisfied: certifi>=2017.4.17 in /usr/local/lib/python3.9/dist-packages (from requests<3.0.0,>=2.13.0->spacy<3.6.0,>=3.5.0->ru-core-news-lg==3.5.0) (2022.12.7)\n",
            "Requirement already satisfied: urllib3<1.27,>=1.21.1 in /usr/local/lib/python3.9/dist-packages (from requests<3.0.0,>=2.13.0->spacy<3.6.0,>=3.5.0->ru-core-news-lg==3.5.0) (1.26.15)\n",
            "Requirement already satisfied: charset-normalizer~=2.0.0 in /usr/local/lib/python3.9/dist-packages (from requests<3.0.0,>=2.13.0->spacy<3.6.0,>=3.5.0->ru-core-news-lg==3.5.0) (2.0.12)\n",
            "Requirement already satisfied: idna<4,>=2.5 in /usr/local/lib/python3.9/dist-packages (from requests<3.0.0,>=2.13.0->spacy<3.6.0,>=3.5.0->ru-core-news-lg==3.5.0) (3.4)\n",
            "Requirement already satisfied: blis<0.8.0,>=0.7.8 in /usr/local/lib/python3.9/dist-packages (from thinc<8.2.0,>=8.1.8->spacy<3.6.0,>=3.5.0->ru-core-news-lg==3.5.0) (0.7.9)\n",
            "Requirement already satisfied: confection<1.0.0,>=0.0.1 in /usr/local/lib/python3.9/dist-packages (from thinc<8.2.0,>=8.1.8->spacy<3.6.0,>=3.5.0->ru-core-news-lg==3.5.0) (0.0.4)\n",
            "Requirement already satisfied: click<9.0.0,>=7.1.1 in /usr/local/lib/python3.9/dist-packages (from typer<0.8.0,>=0.3.0->spacy<3.6.0,>=3.5.0->ru-core-news-lg==3.5.0) (8.1.3)\n",
            "Requirement already satisfied: MarkupSafe>=2.0 in /usr/local/lib/python3.9/dist-packages (from jinja2->spacy<3.6.0,>=3.5.0->ru-core-news-lg==3.5.0) (2.1.2)\n",
            "\u001b[38;5;2m✔ Download and installation successful\u001b[0m\n",
            "You can now load the package via spacy.load('ru_core_news_lg')\n"
          ]
        }
      ]
    },
    {
      "cell_type": "code",
      "source": [
        "ds = pd.read_csv('/content/dataset_ozon.tsv', sep = '\\t')\n",
        "ds = ds.drop(columns = ['Unnamed: 0'])"
      ],
      "metadata": {
        "id": "b1NjncMg95UW"
      },
      "execution_count": 4,
      "outputs": []
    },
    {
      "cell_type": "code",
      "source": [
        "ds"
      ],
      "metadata": {
        "id": "0ZbSQBNBfwZB",
        "outputId": "2fcdf8f1-ddee-4b3b-aade-ba8dbd4de7c9",
        "colab": {
          "base_uri": "https://localhost:8080/",
          "height": 424
        }
      },
      "execution_count": 5,
      "outputs": [
        {
          "output_type": "execute_result",
          "data": {
            "text/plain": [
              "                                                    name                brand\n",
              "0                   Игровая консоль PlayStation 5, белый          PlayStation\n",
              "1      Золотой Шелк Маска для волос гиалуроновая кисл...         Золотой Шелк\n",
              "2        Игровая консоль Microsoft Xbox Series X, черный            Microsoft\n",
              "3      L'Oreal Paris Infaillible 24H Fresh Wear Пудра...        L'Oreal Paris\n",
              "4      Maybelline New York Lifter Gloss Блеск для губ...  Maybelline New York\n",
              "...                                                  ...                  ...\n",
              "81774       Erborian BB Family BB карандаш, светлый, 3 г             Erborian\n",
              "81775  Комплект модулей сменных фильтрующих Аквафор Р...              Аквафор\n",
              "81776  Набор менструальных чаш Satisfyer Feel secure ...            Satisfyer\n",
              "81777  28048 Подстилка для надувных и каркасных бассе...                Intex\n",
              "81778                    Трусы женские befree 2116302102               befree\n",
              "\n",
              "[81779 rows x 2 columns]"
            ],
            "text/html": [
              "\n",
              "  <div id=\"df-a366e9d2-73f0-4fec-b186-5ec5de3b97ee\">\n",
              "    <div class=\"colab-df-container\">\n",
              "      <div>\n",
              "<style scoped>\n",
              "    .dataframe tbody tr th:only-of-type {\n",
              "        vertical-align: middle;\n",
              "    }\n",
              "\n",
              "    .dataframe tbody tr th {\n",
              "        vertical-align: top;\n",
              "    }\n",
              "\n",
              "    .dataframe thead th {\n",
              "        text-align: right;\n",
              "    }\n",
              "</style>\n",
              "<table border=\"1\" class=\"dataframe\">\n",
              "  <thead>\n",
              "    <tr style=\"text-align: right;\">\n",
              "      <th></th>\n",
              "      <th>name</th>\n",
              "      <th>brand</th>\n",
              "    </tr>\n",
              "  </thead>\n",
              "  <tbody>\n",
              "    <tr>\n",
              "      <th>0</th>\n",
              "      <td>Игровая консоль PlayStation 5, белый</td>\n",
              "      <td>PlayStation</td>\n",
              "    </tr>\n",
              "    <tr>\n",
              "      <th>1</th>\n",
              "      <td>Золотой Шелк Маска для волос гиалуроновая кисл...</td>\n",
              "      <td>Золотой Шелк</td>\n",
              "    </tr>\n",
              "    <tr>\n",
              "      <th>2</th>\n",
              "      <td>Игровая консоль Microsoft Xbox Series X, черный</td>\n",
              "      <td>Microsoft</td>\n",
              "    </tr>\n",
              "    <tr>\n",
              "      <th>3</th>\n",
              "      <td>L'Oreal Paris Infaillible 24H Fresh Wear Пудра...</td>\n",
              "      <td>L'Oreal Paris</td>\n",
              "    </tr>\n",
              "    <tr>\n",
              "      <th>4</th>\n",
              "      <td>Maybelline New York Lifter Gloss Блеск для губ...</td>\n",
              "      <td>Maybelline New York</td>\n",
              "    </tr>\n",
              "    <tr>\n",
              "      <th>...</th>\n",
              "      <td>...</td>\n",
              "      <td>...</td>\n",
              "    </tr>\n",
              "    <tr>\n",
              "      <th>81774</th>\n",
              "      <td>Erborian BB Family BB карандаш, светлый, 3 г</td>\n",
              "      <td>Erborian</td>\n",
              "    </tr>\n",
              "    <tr>\n",
              "      <th>81775</th>\n",
              "      <td>Комплект модулей сменных фильтрующих Аквафор Р...</td>\n",
              "      <td>Аквафор</td>\n",
              "    </tr>\n",
              "    <tr>\n",
              "      <th>81776</th>\n",
              "      <td>Набор менструальных чаш Satisfyer Feel secure ...</td>\n",
              "      <td>Satisfyer</td>\n",
              "    </tr>\n",
              "    <tr>\n",
              "      <th>81777</th>\n",
              "      <td>28048 Подстилка для надувных и каркасных бассе...</td>\n",
              "      <td>Intex</td>\n",
              "    </tr>\n",
              "    <tr>\n",
              "      <th>81778</th>\n",
              "      <td>Трусы женские befree 2116302102</td>\n",
              "      <td>befree</td>\n",
              "    </tr>\n",
              "  </tbody>\n",
              "</table>\n",
              "<p>81779 rows × 2 columns</p>\n",
              "</div>\n",
              "      <button class=\"colab-df-convert\" onclick=\"convertToInteractive('df-a366e9d2-73f0-4fec-b186-5ec5de3b97ee')\"\n",
              "              title=\"Convert this dataframe to an interactive table.\"\n",
              "              style=\"display:none;\">\n",
              "        \n",
              "  <svg xmlns=\"http://www.w3.org/2000/svg\" height=\"24px\"viewBox=\"0 0 24 24\"\n",
              "       width=\"24px\">\n",
              "    <path d=\"M0 0h24v24H0V0z\" fill=\"none\"/>\n",
              "    <path d=\"M18.56 5.44l.94 2.06.94-2.06 2.06-.94-2.06-.94-.94-2.06-.94 2.06-2.06.94zm-11 1L8.5 8.5l.94-2.06 2.06-.94-2.06-.94L8.5 2.5l-.94 2.06-2.06.94zm10 10l.94 2.06.94-2.06 2.06-.94-2.06-.94-.94-2.06-.94 2.06-2.06.94z\"/><path d=\"M17.41 7.96l-1.37-1.37c-.4-.4-.92-.59-1.43-.59-.52 0-1.04.2-1.43.59L10.3 9.45l-7.72 7.72c-.78.78-.78 2.05 0 2.83L4 21.41c.39.39.9.59 1.41.59.51 0 1.02-.2 1.41-.59l7.78-7.78 2.81-2.81c.8-.78.8-2.07 0-2.86zM5.41 20L4 18.59l7.72-7.72 1.47 1.35L5.41 20z\"/>\n",
              "  </svg>\n",
              "      </button>\n",
              "      \n",
              "  <style>\n",
              "    .colab-df-container {\n",
              "      display:flex;\n",
              "      flex-wrap:wrap;\n",
              "      gap: 12px;\n",
              "    }\n",
              "\n",
              "    .colab-df-convert {\n",
              "      background-color: #E8F0FE;\n",
              "      border: none;\n",
              "      border-radius: 50%;\n",
              "      cursor: pointer;\n",
              "      display: none;\n",
              "      fill: #1967D2;\n",
              "      height: 32px;\n",
              "      padding: 0 0 0 0;\n",
              "      width: 32px;\n",
              "    }\n",
              "\n",
              "    .colab-df-convert:hover {\n",
              "      background-color: #E2EBFA;\n",
              "      box-shadow: 0px 1px 2px rgba(60, 64, 67, 0.3), 0px 1px 3px 1px rgba(60, 64, 67, 0.15);\n",
              "      fill: #174EA6;\n",
              "    }\n",
              "\n",
              "    [theme=dark] .colab-df-convert {\n",
              "      background-color: #3B4455;\n",
              "      fill: #D2E3FC;\n",
              "    }\n",
              "\n",
              "    [theme=dark] .colab-df-convert:hover {\n",
              "      background-color: #434B5C;\n",
              "      box-shadow: 0px 1px 3px 1px rgba(0, 0, 0, 0.15);\n",
              "      filter: drop-shadow(0px 1px 2px rgba(0, 0, 0, 0.3));\n",
              "      fill: #FFFFFF;\n",
              "    }\n",
              "  </style>\n",
              "\n",
              "      <script>\n",
              "        const buttonEl =\n",
              "          document.querySelector('#df-a366e9d2-73f0-4fec-b186-5ec5de3b97ee button.colab-df-convert');\n",
              "        buttonEl.style.display =\n",
              "          google.colab.kernel.accessAllowed ? 'block' : 'none';\n",
              "\n",
              "        async function convertToInteractive(key) {\n",
              "          const element = document.querySelector('#df-a366e9d2-73f0-4fec-b186-5ec5de3b97ee');\n",
              "          const dataTable =\n",
              "            await google.colab.kernel.invokeFunction('convertToInteractive',\n",
              "                                                     [key], {});\n",
              "          if (!dataTable) return;\n",
              "\n",
              "          const docLinkHtml = 'Like what you see? Visit the ' +\n",
              "            '<a target=\"_blank\" href=https://colab.research.google.com/notebooks/data_table.ipynb>data table notebook</a>'\n",
              "            + ' to learn more about interactive tables.';\n",
              "          element.innerHTML = '';\n",
              "          dataTable['output_type'] = 'display_data';\n",
              "          await google.colab.output.renderOutput(dataTable, element);\n",
              "          const docLink = document.createElement('div');\n",
              "          docLink.innerHTML = docLinkHtml;\n",
              "          element.appendChild(docLink);\n",
              "        }\n",
              "      </script>\n",
              "    </div>\n",
              "  </div>\n",
              "  "
            ]
          },
          "metadata": {},
          "execution_count": 5
        }
      ]
    },
    {
      "cell_type": "code",
      "source": [
        "# add spaces either side of punctuation\n",
        "# remove multiple spaces\n",
        "# strip of spacelike characters\n",
        "ds = ds.applymap(lambda string: sub(r\"\\s{2,}\", \" \", sub(f'([{punctuation}]) ?', r\" \\1 \", string)).strip()) "
      ],
      "metadata": {
        "id": "rZp18TPRt2QF"
      },
      "execution_count": 6,
      "outputs": []
    },
    {
      "cell_type": "code",
      "source": [
        "ds"
      ],
      "metadata": {
        "colab": {
          "base_uri": "https://localhost:8080/",
          "height": 424
        },
        "id": "n8Vzkvj3v9rp",
        "outputId": "7db9563d-e171-44a3-9619-2bce41485e48"
      },
      "execution_count": 7,
      "outputs": [
        {
          "output_type": "execute_result",
          "data": {
            "text/plain": [
              "                                                    name                brand\n",
              "0                  Игровая консоль PlayStation 5 , белый          PlayStation\n",
              "1      Золотой Шелк Маска для волос гиалуроновая кисл...         Золотой Шелк\n",
              "2       Игровая консоль Microsoft Xbox Series X , черный            Microsoft\n",
              "3      L ' Oreal Paris Infaillible 24H Fresh Wear Пуд...      L ' Oreal Paris\n",
              "4      Maybelline New York Lifter Gloss Блеск для губ...  Maybelline New York\n",
              "...                                                  ...                  ...\n",
              "81774     Erborian BB Family BB карандаш , светлый , 3 г             Erborian\n",
              "81775  Комплект модулей сменных фильтрующих Аквафор Р...              Аквафор\n",
              "81776  Набор менструальных чаш Satisfyer Feel secure ...            Satisfyer\n",
              "81777  28048 Подстилка для надувных и каркасных бассе...                Intex\n",
              "81778                    Трусы женские befree 2116302102               befree\n",
              "\n",
              "[81779 rows x 2 columns]"
            ],
            "text/html": [
              "\n",
              "  <div id=\"df-363415b6-1e3e-4f32-8064-54dcf7acd3c6\">\n",
              "    <div class=\"colab-df-container\">\n",
              "      <div>\n",
              "<style scoped>\n",
              "    .dataframe tbody tr th:only-of-type {\n",
              "        vertical-align: middle;\n",
              "    }\n",
              "\n",
              "    .dataframe tbody tr th {\n",
              "        vertical-align: top;\n",
              "    }\n",
              "\n",
              "    .dataframe thead th {\n",
              "        text-align: right;\n",
              "    }\n",
              "</style>\n",
              "<table border=\"1\" class=\"dataframe\">\n",
              "  <thead>\n",
              "    <tr style=\"text-align: right;\">\n",
              "      <th></th>\n",
              "      <th>name</th>\n",
              "      <th>brand</th>\n",
              "    </tr>\n",
              "  </thead>\n",
              "  <tbody>\n",
              "    <tr>\n",
              "      <th>0</th>\n",
              "      <td>Игровая консоль PlayStation 5 , белый</td>\n",
              "      <td>PlayStation</td>\n",
              "    </tr>\n",
              "    <tr>\n",
              "      <th>1</th>\n",
              "      <td>Золотой Шелк Маска для волос гиалуроновая кисл...</td>\n",
              "      <td>Золотой Шелк</td>\n",
              "    </tr>\n",
              "    <tr>\n",
              "      <th>2</th>\n",
              "      <td>Игровая консоль Microsoft Xbox Series X , черный</td>\n",
              "      <td>Microsoft</td>\n",
              "    </tr>\n",
              "    <tr>\n",
              "      <th>3</th>\n",
              "      <td>L ' Oreal Paris Infaillible 24H Fresh Wear Пуд...</td>\n",
              "      <td>L ' Oreal Paris</td>\n",
              "    </tr>\n",
              "    <tr>\n",
              "      <th>4</th>\n",
              "      <td>Maybelline New York Lifter Gloss Блеск для губ...</td>\n",
              "      <td>Maybelline New York</td>\n",
              "    </tr>\n",
              "    <tr>\n",
              "      <th>...</th>\n",
              "      <td>...</td>\n",
              "      <td>...</td>\n",
              "    </tr>\n",
              "    <tr>\n",
              "      <th>81774</th>\n",
              "      <td>Erborian BB Family BB карандаш , светлый , 3 г</td>\n",
              "      <td>Erborian</td>\n",
              "    </tr>\n",
              "    <tr>\n",
              "      <th>81775</th>\n",
              "      <td>Комплект модулей сменных фильтрующих Аквафор Р...</td>\n",
              "      <td>Аквафор</td>\n",
              "    </tr>\n",
              "    <tr>\n",
              "      <th>81776</th>\n",
              "      <td>Набор менструальных чаш Satisfyer Feel secure ...</td>\n",
              "      <td>Satisfyer</td>\n",
              "    </tr>\n",
              "    <tr>\n",
              "      <th>81777</th>\n",
              "      <td>28048 Подстилка для надувных и каркасных бассе...</td>\n",
              "      <td>Intex</td>\n",
              "    </tr>\n",
              "    <tr>\n",
              "      <th>81778</th>\n",
              "      <td>Трусы женские befree 2116302102</td>\n",
              "      <td>befree</td>\n",
              "    </tr>\n",
              "  </tbody>\n",
              "</table>\n",
              "<p>81779 rows × 2 columns</p>\n",
              "</div>\n",
              "      <button class=\"colab-df-convert\" onclick=\"convertToInteractive('df-363415b6-1e3e-4f32-8064-54dcf7acd3c6')\"\n",
              "              title=\"Convert this dataframe to an interactive table.\"\n",
              "              style=\"display:none;\">\n",
              "        \n",
              "  <svg xmlns=\"http://www.w3.org/2000/svg\" height=\"24px\"viewBox=\"0 0 24 24\"\n",
              "       width=\"24px\">\n",
              "    <path d=\"M0 0h24v24H0V0z\" fill=\"none\"/>\n",
              "    <path d=\"M18.56 5.44l.94 2.06.94-2.06 2.06-.94-2.06-.94-.94-2.06-.94 2.06-2.06.94zm-11 1L8.5 8.5l.94-2.06 2.06-.94-2.06-.94L8.5 2.5l-.94 2.06-2.06.94zm10 10l.94 2.06.94-2.06 2.06-.94-2.06-.94-.94-2.06-.94 2.06-2.06.94z\"/><path d=\"M17.41 7.96l-1.37-1.37c-.4-.4-.92-.59-1.43-.59-.52 0-1.04.2-1.43.59L10.3 9.45l-7.72 7.72c-.78.78-.78 2.05 0 2.83L4 21.41c.39.39.9.59 1.41.59.51 0 1.02-.2 1.41-.59l7.78-7.78 2.81-2.81c.8-.78.8-2.07 0-2.86zM5.41 20L4 18.59l7.72-7.72 1.47 1.35L5.41 20z\"/>\n",
              "  </svg>\n",
              "      </button>\n",
              "      \n",
              "  <style>\n",
              "    .colab-df-container {\n",
              "      display:flex;\n",
              "      flex-wrap:wrap;\n",
              "      gap: 12px;\n",
              "    }\n",
              "\n",
              "    .colab-df-convert {\n",
              "      background-color: #E8F0FE;\n",
              "      border: none;\n",
              "      border-radius: 50%;\n",
              "      cursor: pointer;\n",
              "      display: none;\n",
              "      fill: #1967D2;\n",
              "      height: 32px;\n",
              "      padding: 0 0 0 0;\n",
              "      width: 32px;\n",
              "    }\n",
              "\n",
              "    .colab-df-convert:hover {\n",
              "      background-color: #E2EBFA;\n",
              "      box-shadow: 0px 1px 2px rgba(60, 64, 67, 0.3), 0px 1px 3px 1px rgba(60, 64, 67, 0.15);\n",
              "      fill: #174EA6;\n",
              "    }\n",
              "\n",
              "    [theme=dark] .colab-df-convert {\n",
              "      background-color: #3B4455;\n",
              "      fill: #D2E3FC;\n",
              "    }\n",
              "\n",
              "    [theme=dark] .colab-df-convert:hover {\n",
              "      background-color: #434B5C;\n",
              "      box-shadow: 0px 1px 3px 1px rgba(0, 0, 0, 0.15);\n",
              "      filter: drop-shadow(0px 1px 2px rgba(0, 0, 0, 0.3));\n",
              "      fill: #FFFFFF;\n",
              "    }\n",
              "  </style>\n",
              "\n",
              "      <script>\n",
              "        const buttonEl =\n",
              "          document.querySelector('#df-363415b6-1e3e-4f32-8064-54dcf7acd3c6 button.colab-df-convert');\n",
              "        buttonEl.style.display =\n",
              "          google.colab.kernel.accessAllowed ? 'block' : 'none';\n",
              "\n",
              "        async function convertToInteractive(key) {\n",
              "          const element = document.querySelector('#df-363415b6-1e3e-4f32-8064-54dcf7acd3c6');\n",
              "          const dataTable =\n",
              "            await google.colab.kernel.invokeFunction('convertToInteractive',\n",
              "                                                     [key], {});\n",
              "          if (!dataTable) return;\n",
              "\n",
              "          const docLinkHtml = 'Like what you see? Visit the ' +\n",
              "            '<a target=\"_blank\" href=https://colab.research.google.com/notebooks/data_table.ipynb>data table notebook</a>'\n",
              "            + ' to learn more about interactive tables.';\n",
              "          element.innerHTML = '';\n",
              "          dataTable['output_type'] = 'display_data';\n",
              "          await google.colab.output.renderOutput(dataTable, element);\n",
              "          const docLink = document.createElement('div');\n",
              "          docLink.innerHTML = docLinkHtml;\n",
              "          element.appendChild(docLink);\n",
              "        }\n",
              "      </script>\n",
              "    </div>\n",
              "  </div>\n",
              "  "
            ]
          },
          "metadata": {},
          "execution_count": 7
        }
      ]
    },
    {
      "cell_type": "code",
      "source": [
        "import ru_core_news_lg\n",
        "nlp = ru_core_news_lg.load()"
      ],
      "metadata": {
        "id": "UhGHqU2EcAck"
      },
      "execution_count": 8,
      "outputs": []
    },
    {
      "cell_type": "code",
      "source": [
        "def make_tags(name, brand):\n",
        "  global tags\n",
        "  global ind\n",
        "  name_splt = nlp(name)\n",
        "  brand_splt = nlp(brand)\n",
        "  for i in name_splt:\n",
        "    for j in brand_splt:\n",
        "      # check for brand names that repeat words (e.g. M&M's)\n",
        "      if not tags or tags[-1][1].idx != i.idx:\n",
        "        if i.lower_ == j.lower_:\n",
        "          if j.i == 0:\n",
        "            # for multiple word brand names, we have to make sure what the word found is part of the brand name\n",
        "            if len(brand_splt) == 1: \n",
        "              tags.append([ind, i, 'B-BRAND'])\n",
        "            elif name_splt[i.i:].text.lower().startswith(brand_splt[j.i:].text.lower()):\n",
        "              tags.append([ind, i, 'B-BRAND'])\n",
        "            elif (j.i == len(brand_splt)-1) or (i.text not in brand_splt[j.i+1:].text.split()):\n",
        "              tags.append([ind, i, 'O'])\n",
        "          else: \n",
        "            if (\n",
        "                name_splt[:i.i].text.lower().endswith(brand_splt[:j.i].text.lower())\n",
        "                and\n",
        "                name_splt[i.i:].text.lower().startswith(brand_splt[j.i:].text.lower())\n",
        "              ):\n",
        "              tags.append([ind, i, 'I-BRAND'])\n",
        "            elif (j.i == len(brand_splt)-1) or (i.text not in brand_splt[j.i+1:].text.split()):\n",
        "              tags.append([ind, i, 'O'])\n",
        "    if i.lower_ not in brand.lower():\n",
        "      tags.append([ind, i, 'O'])\n",
        "  ind += 1\n",
        "  return tags"
      ],
      "metadata": {
        "id": "OnMk6FeKRL7h"
      },
      "execution_count": 9,
      "outputs": []
    },
    {
      "cell_type": "code",
      "source": [
        "tags = []\n",
        "ind = 0\n",
        "print(make_tags(\"Pure Paw Paw бальзам с ароматом клубники\", \"Pure Paw Paw\"))"
      ],
      "metadata": {
        "colab": {
          "base_uri": "https://localhost:8080/"
        },
        "id": "FkBDjxQJzaSp",
        "outputId": "bc2f1e04-cde5-4b2f-9fc5-68d76f6d1e06"
      },
      "execution_count": 10,
      "outputs": [
        {
          "output_type": "stream",
          "name": "stdout",
          "text": [
            "[[0, Pure, 'B-BRAND'], [0, Paw, 'I-BRAND'], [0, Paw, 'I-BRAND'], [0, бальзам, 'O'], [0, с, 'O'], [0, ароматом, 'O'], [0, клубники, 'O']]\n"
          ]
        }
      ]
    },
    {
      "cell_type": "code",
      "source": [
        "tags = []\n",
        "ind = 0\n",
        "nlp = spacy.load('ru_core_news_lg', disable=['ner', 'parser', 'tok2vec', 'attribute_ruler', 'morphologizer'])\n",
        "ds.progress_apply(lambda x: make_tags(x['name'], x['brand']), axis = 1)"
      ],
      "metadata": {
        "colab": {
          "base_uri": "https://localhost:8080/"
        },
        "id": "XsajF5IwSnBt",
        "outputId": "72895630-0498-41c4-df6a-f34b808d879a"
      },
      "execution_count": 11,
      "outputs": [
        {
          "output_type": "stream",
          "name": "stderr",
          "text": [
            "100%|██████████| 81779/81779 [04:10<00:00, 326.11it/s]\n"
          ]
        },
        {
          "output_type": "execute_result",
          "data": {
            "text/plain": [
              "0        [[0, Игровая, O], [0, консоль, O], [0, PlaySta...\n",
              "1        [[0, Игровая, O], [0, консоль, O], [0, PlaySta...\n",
              "2        [[0, Игровая, O], [0, консоль, O], [0, PlaySta...\n",
              "3        [[0, Игровая, O], [0, консоль, O], [0, PlaySta...\n",
              "4        [[0, Игровая, O], [0, консоль, O], [0, PlaySta...\n",
              "                               ...                        \n",
              "81774    [[0, Игровая, O], [0, консоль, O], [0, PlaySta...\n",
              "81775    [[0, Игровая, O], [0, консоль, O], [0, PlaySta...\n",
              "81776    [[0, Игровая, O], [0, консоль, O], [0, PlaySta...\n",
              "81777    [[0, Игровая, O], [0, консоль, O], [0, PlaySta...\n",
              "81778    [[0, Игровая, O], [0, консоль, O], [0, PlaySta...\n",
              "Length: 81779, dtype: object"
            ]
          },
          "metadata": {},
          "execution_count": 11
        }
      ]
    },
    {
      "cell_type": "code",
      "source": [
        "ds_IOB2 = pd.DataFrame(tags, columns = ['sent_id', 'token', 'label'])"
      ],
      "metadata": {
        "id": "B7YK_5I7VnVI"
      },
      "execution_count": 12,
      "outputs": []
    },
    {
      "cell_type": "code",
      "source": [
        "ds_IOB2"
      ],
      "metadata": {
        "id": "EiVwQEZseMKS",
        "colab": {
          "base_uri": "https://localhost:8080/",
          "height": 424
        },
        "outputId": "f35f1834-0781-4652-d602-6755ea8e6e57"
      },
      "execution_count": 13,
      "outputs": [
        {
          "output_type": "execute_result",
          "data": {
            "text/plain": [
              "         sent_id        token    label\n",
              "0              0      Игровая        O\n",
              "1              0      консоль        O\n",
              "2              0  PlayStation  B-BRAND\n",
              "3              0            5        O\n",
              "4              0            ,        O\n",
              "...          ...          ...      ...\n",
              "1073593    81777           см        O\n",
              "1073594    81778        Трусы        O\n",
              "1073595    81778      женские        O\n",
              "1073596    81778       befree  B-BRAND\n",
              "1073597    81778   2116302102        O\n",
              "\n",
              "[1073598 rows x 3 columns]"
            ],
            "text/html": [
              "\n",
              "  <div id=\"df-03caa6f8-e461-4c40-bedb-1e8a8c16f898\">\n",
              "    <div class=\"colab-df-container\">\n",
              "      <div>\n",
              "<style scoped>\n",
              "    .dataframe tbody tr th:only-of-type {\n",
              "        vertical-align: middle;\n",
              "    }\n",
              "\n",
              "    .dataframe tbody tr th {\n",
              "        vertical-align: top;\n",
              "    }\n",
              "\n",
              "    .dataframe thead th {\n",
              "        text-align: right;\n",
              "    }\n",
              "</style>\n",
              "<table border=\"1\" class=\"dataframe\">\n",
              "  <thead>\n",
              "    <tr style=\"text-align: right;\">\n",
              "      <th></th>\n",
              "      <th>sent_id</th>\n",
              "      <th>token</th>\n",
              "      <th>label</th>\n",
              "    </tr>\n",
              "  </thead>\n",
              "  <tbody>\n",
              "    <tr>\n",
              "      <th>0</th>\n",
              "      <td>0</td>\n",
              "      <td>Игровая</td>\n",
              "      <td>O</td>\n",
              "    </tr>\n",
              "    <tr>\n",
              "      <th>1</th>\n",
              "      <td>0</td>\n",
              "      <td>консоль</td>\n",
              "      <td>O</td>\n",
              "    </tr>\n",
              "    <tr>\n",
              "      <th>2</th>\n",
              "      <td>0</td>\n",
              "      <td>PlayStation</td>\n",
              "      <td>B-BRAND</td>\n",
              "    </tr>\n",
              "    <tr>\n",
              "      <th>3</th>\n",
              "      <td>0</td>\n",
              "      <td>5</td>\n",
              "      <td>O</td>\n",
              "    </tr>\n",
              "    <tr>\n",
              "      <th>4</th>\n",
              "      <td>0</td>\n",
              "      <td>,</td>\n",
              "      <td>O</td>\n",
              "    </tr>\n",
              "    <tr>\n",
              "      <th>...</th>\n",
              "      <td>...</td>\n",
              "      <td>...</td>\n",
              "      <td>...</td>\n",
              "    </tr>\n",
              "    <tr>\n",
              "      <th>1073593</th>\n",
              "      <td>81777</td>\n",
              "      <td>см</td>\n",
              "      <td>O</td>\n",
              "    </tr>\n",
              "    <tr>\n",
              "      <th>1073594</th>\n",
              "      <td>81778</td>\n",
              "      <td>Трусы</td>\n",
              "      <td>O</td>\n",
              "    </tr>\n",
              "    <tr>\n",
              "      <th>1073595</th>\n",
              "      <td>81778</td>\n",
              "      <td>женские</td>\n",
              "      <td>O</td>\n",
              "    </tr>\n",
              "    <tr>\n",
              "      <th>1073596</th>\n",
              "      <td>81778</td>\n",
              "      <td>befree</td>\n",
              "      <td>B-BRAND</td>\n",
              "    </tr>\n",
              "    <tr>\n",
              "      <th>1073597</th>\n",
              "      <td>81778</td>\n",
              "      <td>2116302102</td>\n",
              "      <td>O</td>\n",
              "    </tr>\n",
              "  </tbody>\n",
              "</table>\n",
              "<p>1073598 rows × 3 columns</p>\n",
              "</div>\n",
              "      <button class=\"colab-df-convert\" onclick=\"convertToInteractive('df-03caa6f8-e461-4c40-bedb-1e8a8c16f898')\"\n",
              "              title=\"Convert this dataframe to an interactive table.\"\n",
              "              style=\"display:none;\">\n",
              "        \n",
              "  <svg xmlns=\"http://www.w3.org/2000/svg\" height=\"24px\"viewBox=\"0 0 24 24\"\n",
              "       width=\"24px\">\n",
              "    <path d=\"M0 0h24v24H0V0z\" fill=\"none\"/>\n",
              "    <path d=\"M18.56 5.44l.94 2.06.94-2.06 2.06-.94-2.06-.94-.94-2.06-.94 2.06-2.06.94zm-11 1L8.5 8.5l.94-2.06 2.06-.94-2.06-.94L8.5 2.5l-.94 2.06-2.06.94zm10 10l.94 2.06.94-2.06 2.06-.94-2.06-.94-.94-2.06-.94 2.06-2.06.94z\"/><path d=\"M17.41 7.96l-1.37-1.37c-.4-.4-.92-.59-1.43-.59-.52 0-1.04.2-1.43.59L10.3 9.45l-7.72 7.72c-.78.78-.78 2.05 0 2.83L4 21.41c.39.39.9.59 1.41.59.51 0 1.02-.2 1.41-.59l7.78-7.78 2.81-2.81c.8-.78.8-2.07 0-2.86zM5.41 20L4 18.59l7.72-7.72 1.47 1.35L5.41 20z\"/>\n",
              "  </svg>\n",
              "      </button>\n",
              "      \n",
              "  <style>\n",
              "    .colab-df-container {\n",
              "      display:flex;\n",
              "      flex-wrap:wrap;\n",
              "      gap: 12px;\n",
              "    }\n",
              "\n",
              "    .colab-df-convert {\n",
              "      background-color: #E8F0FE;\n",
              "      border: none;\n",
              "      border-radius: 50%;\n",
              "      cursor: pointer;\n",
              "      display: none;\n",
              "      fill: #1967D2;\n",
              "      height: 32px;\n",
              "      padding: 0 0 0 0;\n",
              "      width: 32px;\n",
              "    }\n",
              "\n",
              "    .colab-df-convert:hover {\n",
              "      background-color: #E2EBFA;\n",
              "      box-shadow: 0px 1px 2px rgba(60, 64, 67, 0.3), 0px 1px 3px 1px rgba(60, 64, 67, 0.15);\n",
              "      fill: #174EA6;\n",
              "    }\n",
              "\n",
              "    [theme=dark] .colab-df-convert {\n",
              "      background-color: #3B4455;\n",
              "      fill: #D2E3FC;\n",
              "    }\n",
              "\n",
              "    [theme=dark] .colab-df-convert:hover {\n",
              "      background-color: #434B5C;\n",
              "      box-shadow: 0px 1px 3px 1px rgba(0, 0, 0, 0.15);\n",
              "      filter: drop-shadow(0px 1px 2px rgba(0, 0, 0, 0.3));\n",
              "      fill: #FFFFFF;\n",
              "    }\n",
              "  </style>\n",
              "\n",
              "      <script>\n",
              "        const buttonEl =\n",
              "          document.querySelector('#df-03caa6f8-e461-4c40-bedb-1e8a8c16f898 button.colab-df-convert');\n",
              "        buttonEl.style.display =\n",
              "          google.colab.kernel.accessAllowed ? 'block' : 'none';\n",
              "\n",
              "        async function convertToInteractive(key) {\n",
              "          const element = document.querySelector('#df-03caa6f8-e461-4c40-bedb-1e8a8c16f898');\n",
              "          const dataTable =\n",
              "            await google.colab.kernel.invokeFunction('convertToInteractive',\n",
              "                                                     [key], {});\n",
              "          if (!dataTable) return;\n",
              "\n",
              "          const docLinkHtml = 'Like what you see? Visit the ' +\n",
              "            '<a target=\"_blank\" href=https://colab.research.google.com/notebooks/data_table.ipynb>data table notebook</a>'\n",
              "            + ' to learn more about interactive tables.';\n",
              "          element.innerHTML = '';\n",
              "          dataTable['output_type'] = 'display_data';\n",
              "          await google.colab.output.renderOutput(dataTable, element);\n",
              "          const docLink = document.createElement('div');\n",
              "          docLink.innerHTML = docLinkHtml;\n",
              "          element.appendChild(docLink);\n",
              "        }\n",
              "      </script>\n",
              "    </div>\n",
              "  </div>\n",
              "  "
            ]
          },
          "metadata": {},
          "execution_count": 13
        }
      ]
    },
    {
      "cell_type": "code",
      "source": [
        "train, test = train_test_split(ds, test_size=0.2)\n",
        "train, dev = train_test_split(train, test_size=0.2)"
      ],
      "metadata": {
        "id": "dUR3--qDw_hf"
      },
      "execution_count": 14,
      "outputs": []
    },
    {
      "cell_type": "code",
      "source": [
        "train.shape, dev.shape, test.shape"
      ],
      "metadata": {
        "id": "khu1qsafzAzn",
        "colab": {
          "base_uri": "https://localhost:8080/"
        },
        "outputId": "de2895d3-ed78-46c1-ac21-94bf0e45a511"
      },
      "execution_count": 15,
      "outputs": [
        {
          "output_type": "execute_result",
          "data": {
            "text/plain": [
              "((52338, 2), (13085, 2), (16356, 2))"
            ]
          },
          "metadata": {},
          "execution_count": 15
        }
      ]
    },
    {
      "cell_type": "code",
      "source": [
        "# train.to_csv('train_ozon.csv',index=False)\n",
        "# test.to_csv('test_ozon.csv',index=False)\n",
        "# dev.to_csv('dev_ozon.csv',index=False)"
      ],
      "metadata": {
        "id": "bTkSk7UL0CC4"
      },
      "execution_count": 16,
      "outputs": []
    },
    {
      "cell_type": "code",
      "source": [
        "train"
      ],
      "metadata": {
        "colab": {
          "base_uri": "https://localhost:8080/",
          "height": 424
        },
        "id": "rHJxGSIz2o9m",
        "outputId": "8ab20154-672d-420a-8644-c143d61da4d1"
      },
      "execution_count": 17,
      "outputs": [
        {
          "output_type": "execute_result",
          "data": {
            "text/plain": [
              "                                                    name                brand\n",
              "66784  Сидр \" Лось и Кедр \" безалкогольный релиз 0 . ...          Лось и Кедр\n",
              "2673   Лосьон для кожи головы Charismo Deko3Pill , на...             Charismo\n",
              "6075   Фигурка Funko POP ! Bobble Marvel The Falcon a...                Funko\n",
              "24723  Диван - кровать Нижегородмебель и К Вилли ( 12...  Нижегородмебель и К\n",
              "40072  Logitech G G203 LightSync компьютерная мышь US...             Logitech\n",
              "...                                                  ...                  ...\n",
              "70203  Вкусный жевательный мармелад из Испании Арбуз ...     Остров сладостей\n",
              "48249  Трусы купальные Infinity Lingerie жен . Oira ч...    Infinity Lingerie\n",
              "76966  Внешний аккумулятор Xiaomi Mi Power Bank 2 , 1...               Xiaomi\n",
              "66749  CRAZY COLOR Краситель оттеночный 68 лаймовая ц...          CRAZY COLOR\n",
              "54438  Комплект носков Adidas 3 Stripes Half Cushione...               Adidas\n",
              "\n",
              "[52338 rows x 2 columns]"
            ],
            "text/html": [
              "\n",
              "  <div id=\"df-a1e76d2c-8645-4f3b-9c7c-334619c47799\">\n",
              "    <div class=\"colab-df-container\">\n",
              "      <div>\n",
              "<style scoped>\n",
              "    .dataframe tbody tr th:only-of-type {\n",
              "        vertical-align: middle;\n",
              "    }\n",
              "\n",
              "    .dataframe tbody tr th {\n",
              "        vertical-align: top;\n",
              "    }\n",
              "\n",
              "    .dataframe thead th {\n",
              "        text-align: right;\n",
              "    }\n",
              "</style>\n",
              "<table border=\"1\" class=\"dataframe\">\n",
              "  <thead>\n",
              "    <tr style=\"text-align: right;\">\n",
              "      <th></th>\n",
              "      <th>name</th>\n",
              "      <th>brand</th>\n",
              "    </tr>\n",
              "  </thead>\n",
              "  <tbody>\n",
              "    <tr>\n",
              "      <th>66784</th>\n",
              "      <td>Сидр \" Лось и Кедр \" безалкогольный релиз 0 . ...</td>\n",
              "      <td>Лось и Кедр</td>\n",
              "    </tr>\n",
              "    <tr>\n",
              "      <th>2673</th>\n",
              "      <td>Лосьон для кожи головы Charismo Deko3Pill , на...</td>\n",
              "      <td>Charismo</td>\n",
              "    </tr>\n",
              "    <tr>\n",
              "      <th>6075</th>\n",
              "      <td>Фигурка Funko POP ! Bobble Marvel The Falcon a...</td>\n",
              "      <td>Funko</td>\n",
              "    </tr>\n",
              "    <tr>\n",
              "      <th>24723</th>\n",
              "      <td>Диван - кровать Нижегородмебель и К Вилли ( 12...</td>\n",
              "      <td>Нижегородмебель и К</td>\n",
              "    </tr>\n",
              "    <tr>\n",
              "      <th>40072</th>\n",
              "      <td>Logitech G G203 LightSync компьютерная мышь US...</td>\n",
              "      <td>Logitech</td>\n",
              "    </tr>\n",
              "    <tr>\n",
              "      <th>...</th>\n",
              "      <td>...</td>\n",
              "      <td>...</td>\n",
              "    </tr>\n",
              "    <tr>\n",
              "      <th>70203</th>\n",
              "      <td>Вкусный жевательный мармелад из Испании Арбуз ...</td>\n",
              "      <td>Остров сладостей</td>\n",
              "    </tr>\n",
              "    <tr>\n",
              "      <th>48249</th>\n",
              "      <td>Трусы купальные Infinity Lingerie жен . Oira ч...</td>\n",
              "      <td>Infinity Lingerie</td>\n",
              "    </tr>\n",
              "    <tr>\n",
              "      <th>76966</th>\n",
              "      <td>Внешний аккумулятор Xiaomi Mi Power Bank 2 , 1...</td>\n",
              "      <td>Xiaomi</td>\n",
              "    </tr>\n",
              "    <tr>\n",
              "      <th>66749</th>\n",
              "      <td>CRAZY COLOR Краситель оттеночный 68 лаймовая ц...</td>\n",
              "      <td>CRAZY COLOR</td>\n",
              "    </tr>\n",
              "    <tr>\n",
              "      <th>54438</th>\n",
              "      <td>Комплект носков Adidas 3 Stripes Half Cushione...</td>\n",
              "      <td>Adidas</td>\n",
              "    </tr>\n",
              "  </tbody>\n",
              "</table>\n",
              "<p>52338 rows × 2 columns</p>\n",
              "</div>\n",
              "      <button class=\"colab-df-convert\" onclick=\"convertToInteractive('df-a1e76d2c-8645-4f3b-9c7c-334619c47799')\"\n",
              "              title=\"Convert this dataframe to an interactive table.\"\n",
              "              style=\"display:none;\">\n",
              "        \n",
              "  <svg xmlns=\"http://www.w3.org/2000/svg\" height=\"24px\"viewBox=\"0 0 24 24\"\n",
              "       width=\"24px\">\n",
              "    <path d=\"M0 0h24v24H0V0z\" fill=\"none\"/>\n",
              "    <path d=\"M18.56 5.44l.94 2.06.94-2.06 2.06-.94-2.06-.94-.94-2.06-.94 2.06-2.06.94zm-11 1L8.5 8.5l.94-2.06 2.06-.94-2.06-.94L8.5 2.5l-.94 2.06-2.06.94zm10 10l.94 2.06.94-2.06 2.06-.94-2.06-.94-.94-2.06-.94 2.06-2.06.94z\"/><path d=\"M17.41 7.96l-1.37-1.37c-.4-.4-.92-.59-1.43-.59-.52 0-1.04.2-1.43.59L10.3 9.45l-7.72 7.72c-.78.78-.78 2.05 0 2.83L4 21.41c.39.39.9.59 1.41.59.51 0 1.02-.2 1.41-.59l7.78-7.78 2.81-2.81c.8-.78.8-2.07 0-2.86zM5.41 20L4 18.59l7.72-7.72 1.47 1.35L5.41 20z\"/>\n",
              "  </svg>\n",
              "      </button>\n",
              "      \n",
              "  <style>\n",
              "    .colab-df-container {\n",
              "      display:flex;\n",
              "      flex-wrap:wrap;\n",
              "      gap: 12px;\n",
              "    }\n",
              "\n",
              "    .colab-df-convert {\n",
              "      background-color: #E8F0FE;\n",
              "      border: none;\n",
              "      border-radius: 50%;\n",
              "      cursor: pointer;\n",
              "      display: none;\n",
              "      fill: #1967D2;\n",
              "      height: 32px;\n",
              "      padding: 0 0 0 0;\n",
              "      width: 32px;\n",
              "    }\n",
              "\n",
              "    .colab-df-convert:hover {\n",
              "      background-color: #E2EBFA;\n",
              "      box-shadow: 0px 1px 2px rgba(60, 64, 67, 0.3), 0px 1px 3px 1px rgba(60, 64, 67, 0.15);\n",
              "      fill: #174EA6;\n",
              "    }\n",
              "\n",
              "    [theme=dark] .colab-df-convert {\n",
              "      background-color: #3B4455;\n",
              "      fill: #D2E3FC;\n",
              "    }\n",
              "\n",
              "    [theme=dark] .colab-df-convert:hover {\n",
              "      background-color: #434B5C;\n",
              "      box-shadow: 0px 1px 3px 1px rgba(0, 0, 0, 0.15);\n",
              "      filter: drop-shadow(0px 1px 2px rgba(0, 0, 0, 0.3));\n",
              "      fill: #FFFFFF;\n",
              "    }\n",
              "  </style>\n",
              "\n",
              "      <script>\n",
              "        const buttonEl =\n",
              "          document.querySelector('#df-a1e76d2c-8645-4f3b-9c7c-334619c47799 button.colab-df-convert');\n",
              "        buttonEl.style.display =\n",
              "          google.colab.kernel.accessAllowed ? 'block' : 'none';\n",
              "\n",
              "        async function convertToInteractive(key) {\n",
              "          const element = document.querySelector('#df-a1e76d2c-8645-4f3b-9c7c-334619c47799');\n",
              "          const dataTable =\n",
              "            await google.colab.kernel.invokeFunction('convertToInteractive',\n",
              "                                                     [key], {});\n",
              "          if (!dataTable) return;\n",
              "\n",
              "          const docLinkHtml = 'Like what you see? Visit the ' +\n",
              "            '<a target=\"_blank\" href=https://colab.research.google.com/notebooks/data_table.ipynb>data table notebook</a>'\n",
              "            + ' to learn more about interactive tables.';\n",
              "          element.innerHTML = '';\n",
              "          dataTable['output_type'] = 'display_data';\n",
              "          await google.colab.output.renderOutput(dataTable, element);\n",
              "          const docLink = document.createElement('div');\n",
              "          docLink.innerHTML = docLinkHtml;\n",
              "          element.appendChild(docLink);\n",
              "        }\n",
              "      </script>\n",
              "    </div>\n",
              "  </div>\n",
              "  "
            ]
          },
          "metadata": {},
          "execution_count": 17
        }
      ]
    },
    {
      "cell_type": "markdown",
      "source": [
        "Converting to spaCy format. We need brand start and end endices in the sentence"
      ],
      "metadata": {
        "id": "fQ0kQeJu9OHu"
      }
    },
    {
      "cell_type": "code",
      "source": [
        "brand_indices = {}\n",
        "sents = ds_IOB2.groupby('sent_id')\n",
        "\n",
        "cnt = 0\n",
        "failed = []\n",
        "for sent_id, sent in tqdm(sents):\n",
        "  start, end = -1, -1\n",
        "  text_list = sent['token'].tolist()\n",
        "  labels = sent['label'].tolist()\n",
        "  for n, token in enumerate(text_list):\n",
        "    if labels[n][0] == 'B':\n",
        "      start = token.idx\n",
        "      if n == len(labels)-1 or labels[n+1][0] == 'O':\n",
        "        # brand name is only one word\n",
        "        end = token.idx + len(token)\n",
        "    elif labels[n][0] == 'I' and (\n",
        "         n == len(labels)-1 or labels[n+1][0] == 'O'\n",
        "         ):\n",
        "      # brand name is multiple words\n",
        "      end = token.idx + len(token)\n",
        "  if start != -1 and end != -1:\n",
        "    if len(ds.iloc[sent_id]['brand']) == end-start:\n",
        "      brand_indices[sent_id] = {'brand': ds.iloc[sent_id]['brand'], 'ind': [start, end]}\n",
        "    else:\n",
        "      cnt += 1\n",
        "      failed.append(sent_id)\n",
        "    # assert len(ds.iloc[sent_id]['brand']) == end-start, f\"{sent}, \\ntarget {ds.iloc[sent_id]['brand']}, ind {start}, {end}\""
      ],
      "metadata": {
        "id": "wqrHdkYL9NMY",
        "colab": {
          "base_uri": "https://localhost:8080/"
        },
        "outputId": "d28eb8f7-5674-4d59-ed6e-afaa2c634d12"
      },
      "execution_count": 19,
      "outputs": [
        {
          "output_type": "stream",
          "name": "stderr",
          "text": [
            "100%|██████████| 81779/81779 [00:20<00:00, 4030.29it/s]\n"
          ]
        }
      ]
    },
    {
      "cell_type": "code",
      "source": [
        "cnt"
      ],
      "metadata": {
        "colab": {
          "base_uri": "https://localhost:8080/"
        },
        "id": "Bv_AuJi99vtY",
        "outputId": "3935ebe3-4819-4cc3-8bcf-247ff92b5f1b"
      },
      "execution_count": 20,
      "outputs": [
        {
          "output_type": "execute_result",
          "data": {
            "text/plain": [
              "30"
            ]
          },
          "metadata": {},
          "execution_count": 20
        }
      ]
    },
    {
      "cell_type": "code",
      "source": [
        "db = spacy.tokens.DocBin()\n",
        "train_id = train.index\n",
        "\n",
        "for idx in tqdm(train_id):\n",
        "  if idx in brand_indices.keys():\n",
        "    doc = nlp(train.loc[train.index == idx]['name'].tolist()[0])\n",
        "    ents = []\n",
        "    start, end = brand_indices[idx]['ind']\n",
        "    span = doc.char_span(start, end, label='BRAND')\n",
        "    ents.append(span)\n",
        "    doc.ents = ents\n",
        "    db.add(doc)"
      ],
      "metadata": {
        "id": "0kEoEB_rweQn"
      },
      "execution_count": null,
      "outputs": []
    },
    {
      "cell_type": "code",
      "source": [
        "db.to_disk('./train.spacy')"
      ],
      "metadata": {
        "id": "bxCNMj742Snl"
      },
      "execution_count": null,
      "outputs": []
    },
    {
      "cell_type": "code",
      "source": [
        "db = spacy.tokens.DocBin()\n",
        "test_id = test.index\n",
        "\n",
        "for idx in tqdm(test_id):\n",
        "  if idx in brand_indices.keys():\n",
        "    doc = nlp(test.loc[test.index == idx]['name'].tolist()[0])\n",
        "    ents = []\n",
        "    start, end = brand_indices[idx]['ind']\n",
        "    span = doc.char_span(start, end, label='BRAND')\n",
        "    ents.append(span)\n",
        "    doc.ents = ents\n",
        "    db.add(doc)"
      ],
      "metadata": {
        "id": "r4Os7vIf55Qn"
      },
      "execution_count": null,
      "outputs": []
    },
    {
      "cell_type": "code",
      "source": [
        "db.to_disk('./test.spacy')"
      ],
      "metadata": {
        "id": "Jm2vzvPR6NmF"
      },
      "execution_count": null,
      "outputs": []
    },
    {
      "cell_type": "markdown",
      "source": [
        "we have a spacy-specific format for training. Now we can train our own spacy NER model to predict brands -- but first, we need custom vectors"
      ],
      "metadata": {
        "id": "pGJ9ZOLlznu4"
      }
    },
    {
      "cell_type": "markdown",
      "source": [
        "create embeddings"
      ],
      "metadata": {
        "id": "Zhz0ZJ7m9r-f"
      }
    },
    {
      "cell_type": "code",
      "source": [
        "!pip install gensim --upgrade\n",
        "\n",
        "import gensim"
      ],
      "metadata": {
        "colab": {
          "base_uri": "https://localhost:8080/"
        },
        "id": "ZGuh8tIX9s9r",
        "outputId": "bbdbd72c-8a49-404f-eeef-c32b38221499"
      },
      "execution_count": 21,
      "outputs": [
        {
          "output_type": "stream",
          "name": "stdout",
          "text": [
            "Looking in indexes: https://pypi.org/simple, https://us-python.pkg.dev/colab-wheels/public/simple/\n",
            "Requirement already satisfied: gensim in /usr/local/lib/python3.9/dist-packages (4.3.1)\n",
            "Requirement already satisfied: scipy>=1.7.0 in /usr/local/lib/python3.9/dist-packages (from gensim) (1.10.1)\n",
            "Requirement already satisfied: numpy>=1.18.5 in /usr/local/lib/python3.9/dist-packages (from gensim) (1.22.4)\n",
            "Requirement already satisfied: smart-open>=1.8.1 in /usr/local/lib/python3.9/dist-packages (from gensim) (6.3.0)\n"
          ]
        }
      ]
    },
    {
      "cell_type": "code",
      "source": [
        "ds"
      ],
      "metadata": {
        "colab": {
          "base_uri": "https://localhost:8080/",
          "height": 424
        },
        "id": "LGLJJ8Yg9u4z",
        "outputId": "360a7f9c-44e6-4c67-821f-1b0e92cb6fd9"
      },
      "execution_count": 22,
      "outputs": [
        {
          "output_type": "execute_result",
          "data": {
            "text/plain": [
              "                                                    name                brand\n",
              "0                  Игровая консоль PlayStation 5 , белый          PlayStation\n",
              "1      Золотой Шелк Маска для волос гиалуроновая кисл...         Золотой Шелк\n",
              "2       Игровая консоль Microsoft Xbox Series X , черный            Microsoft\n",
              "3      L ' Oreal Paris Infaillible 24H Fresh Wear Пуд...      L ' Oreal Paris\n",
              "4      Maybelline New York Lifter Gloss Блеск для губ...  Maybelline New York\n",
              "...                                                  ...                  ...\n",
              "81774     Erborian BB Family BB карандаш , светлый , 3 г             Erborian\n",
              "81775  Комплект модулей сменных фильтрующих Аквафор Р...              Аквафор\n",
              "81776  Набор менструальных чаш Satisfyer Feel secure ...            Satisfyer\n",
              "81777  28048 Подстилка для надувных и каркасных бассе...                Intex\n",
              "81778                    Трусы женские befree 2116302102               befree\n",
              "\n",
              "[81779 rows x 2 columns]"
            ],
            "text/html": [
              "\n",
              "  <div id=\"df-3abf8766-de3e-40a7-9ec8-7f1315ea96ae\">\n",
              "    <div class=\"colab-df-container\">\n",
              "      <div>\n",
              "<style scoped>\n",
              "    .dataframe tbody tr th:only-of-type {\n",
              "        vertical-align: middle;\n",
              "    }\n",
              "\n",
              "    .dataframe tbody tr th {\n",
              "        vertical-align: top;\n",
              "    }\n",
              "\n",
              "    .dataframe thead th {\n",
              "        text-align: right;\n",
              "    }\n",
              "</style>\n",
              "<table border=\"1\" class=\"dataframe\">\n",
              "  <thead>\n",
              "    <tr style=\"text-align: right;\">\n",
              "      <th></th>\n",
              "      <th>name</th>\n",
              "      <th>brand</th>\n",
              "    </tr>\n",
              "  </thead>\n",
              "  <tbody>\n",
              "    <tr>\n",
              "      <th>0</th>\n",
              "      <td>Игровая консоль PlayStation 5 , белый</td>\n",
              "      <td>PlayStation</td>\n",
              "    </tr>\n",
              "    <tr>\n",
              "      <th>1</th>\n",
              "      <td>Золотой Шелк Маска для волос гиалуроновая кисл...</td>\n",
              "      <td>Золотой Шелк</td>\n",
              "    </tr>\n",
              "    <tr>\n",
              "      <th>2</th>\n",
              "      <td>Игровая консоль Microsoft Xbox Series X , черный</td>\n",
              "      <td>Microsoft</td>\n",
              "    </tr>\n",
              "    <tr>\n",
              "      <th>3</th>\n",
              "      <td>L ' Oreal Paris Infaillible 24H Fresh Wear Пуд...</td>\n",
              "      <td>L ' Oreal Paris</td>\n",
              "    </tr>\n",
              "    <tr>\n",
              "      <th>4</th>\n",
              "      <td>Maybelline New York Lifter Gloss Блеск для губ...</td>\n",
              "      <td>Maybelline New York</td>\n",
              "    </tr>\n",
              "    <tr>\n",
              "      <th>...</th>\n",
              "      <td>...</td>\n",
              "      <td>...</td>\n",
              "    </tr>\n",
              "    <tr>\n",
              "      <th>81774</th>\n",
              "      <td>Erborian BB Family BB карандаш , светлый , 3 г</td>\n",
              "      <td>Erborian</td>\n",
              "    </tr>\n",
              "    <tr>\n",
              "      <th>81775</th>\n",
              "      <td>Комплект модулей сменных фильтрующих Аквафор Р...</td>\n",
              "      <td>Аквафор</td>\n",
              "    </tr>\n",
              "    <tr>\n",
              "      <th>81776</th>\n",
              "      <td>Набор менструальных чаш Satisfyer Feel secure ...</td>\n",
              "      <td>Satisfyer</td>\n",
              "    </tr>\n",
              "    <tr>\n",
              "      <th>81777</th>\n",
              "      <td>28048 Подстилка для надувных и каркасных бассе...</td>\n",
              "      <td>Intex</td>\n",
              "    </tr>\n",
              "    <tr>\n",
              "      <th>81778</th>\n",
              "      <td>Трусы женские befree 2116302102</td>\n",
              "      <td>befree</td>\n",
              "    </tr>\n",
              "  </tbody>\n",
              "</table>\n",
              "<p>81779 rows × 2 columns</p>\n",
              "</div>\n",
              "      <button class=\"colab-df-convert\" onclick=\"convertToInteractive('df-3abf8766-de3e-40a7-9ec8-7f1315ea96ae')\"\n",
              "              title=\"Convert this dataframe to an interactive table.\"\n",
              "              style=\"display:none;\">\n",
              "        \n",
              "  <svg xmlns=\"http://www.w3.org/2000/svg\" height=\"24px\"viewBox=\"0 0 24 24\"\n",
              "       width=\"24px\">\n",
              "    <path d=\"M0 0h24v24H0V0z\" fill=\"none\"/>\n",
              "    <path d=\"M18.56 5.44l.94 2.06.94-2.06 2.06-.94-2.06-.94-.94-2.06-.94 2.06-2.06.94zm-11 1L8.5 8.5l.94-2.06 2.06-.94-2.06-.94L8.5 2.5l-.94 2.06-2.06.94zm10 10l.94 2.06.94-2.06 2.06-.94-2.06-.94-.94-2.06-.94 2.06-2.06.94z\"/><path d=\"M17.41 7.96l-1.37-1.37c-.4-.4-.92-.59-1.43-.59-.52 0-1.04.2-1.43.59L10.3 9.45l-7.72 7.72c-.78.78-.78 2.05 0 2.83L4 21.41c.39.39.9.59 1.41.59.51 0 1.02-.2 1.41-.59l7.78-7.78 2.81-2.81c.8-.78.8-2.07 0-2.86zM5.41 20L4 18.59l7.72-7.72 1.47 1.35L5.41 20z\"/>\n",
              "  </svg>\n",
              "      </button>\n",
              "      \n",
              "  <style>\n",
              "    .colab-df-container {\n",
              "      display:flex;\n",
              "      flex-wrap:wrap;\n",
              "      gap: 12px;\n",
              "    }\n",
              "\n",
              "    .colab-df-convert {\n",
              "      background-color: #E8F0FE;\n",
              "      border: none;\n",
              "      border-radius: 50%;\n",
              "      cursor: pointer;\n",
              "      display: none;\n",
              "      fill: #1967D2;\n",
              "      height: 32px;\n",
              "      padding: 0 0 0 0;\n",
              "      width: 32px;\n",
              "    }\n",
              "\n",
              "    .colab-df-convert:hover {\n",
              "      background-color: #E2EBFA;\n",
              "      box-shadow: 0px 1px 2px rgba(60, 64, 67, 0.3), 0px 1px 3px 1px rgba(60, 64, 67, 0.15);\n",
              "      fill: #174EA6;\n",
              "    }\n",
              "\n",
              "    [theme=dark] .colab-df-convert {\n",
              "      background-color: #3B4455;\n",
              "      fill: #D2E3FC;\n",
              "    }\n",
              "\n",
              "    [theme=dark] .colab-df-convert:hover {\n",
              "      background-color: #434B5C;\n",
              "      box-shadow: 0px 1px 3px 1px rgba(0, 0, 0, 0.15);\n",
              "      filter: drop-shadow(0px 1px 2px rgba(0, 0, 0, 0.3));\n",
              "      fill: #FFFFFF;\n",
              "    }\n",
              "  </style>\n",
              "\n",
              "      <script>\n",
              "        const buttonEl =\n",
              "          document.querySelector('#df-3abf8766-de3e-40a7-9ec8-7f1315ea96ae button.colab-df-convert');\n",
              "        buttonEl.style.display =\n",
              "          google.colab.kernel.accessAllowed ? 'block' : 'none';\n",
              "\n",
              "        async function convertToInteractive(key) {\n",
              "          const element = document.querySelector('#df-3abf8766-de3e-40a7-9ec8-7f1315ea96ae');\n",
              "          const dataTable =\n",
              "            await google.colab.kernel.invokeFunction('convertToInteractive',\n",
              "                                                     [key], {});\n",
              "          if (!dataTable) return;\n",
              "\n",
              "          const docLinkHtml = 'Like what you see? Visit the ' +\n",
              "            '<a target=\"_blank\" href=https://colab.research.google.com/notebooks/data_table.ipynb>data table notebook</a>'\n",
              "            + ' to learn more about interactive tables.';\n",
              "          element.innerHTML = '';\n",
              "          dataTable['output_type'] = 'display_data';\n",
              "          await google.colab.output.renderOutput(dataTable, element);\n",
              "          const docLink = document.createElement('div');\n",
              "          docLink.innerHTML = docLinkHtml;\n",
              "          element.appendChild(docLink);\n",
              "        }\n",
              "      </script>\n",
              "    </div>\n",
              "  </div>\n",
              "  "
            ]
          },
          "metadata": {},
          "execution_count": 22
        }
      ]
    },
    {
      "cell_type": "code",
      "source": [
        "# Building sentences\n",
        "\n",
        "titles = ds['name'].tolist()\n",
        "sequences = list(map(lambda x: x.split(), titles))"
      ],
      "metadata": {
        "id": "5oG6azhI-AVj"
      },
      "execution_count": 23,
      "outputs": []
    },
    {
      "cell_type": "code",
      "source": [
        "len(sequences)"
      ],
      "metadata": {
        "colab": {
          "base_uri": "https://localhost:8080/"
        },
        "id": "JYDN6hYA-DG2",
        "outputId": "b4588848-31cc-443d-adeb-fa7c074e9a38"
      },
      "execution_count": 24,
      "outputs": [
        {
          "output_type": "execute_result",
          "data": {
            "text/plain": [
              "81779"
            ]
          },
          "metadata": {},
          "execution_count": 24
        }
      ]
    },
    {
      "cell_type": "code",
      "source": [
        "model = gensim.models.Word2Vec(sequences, min_count=2, vector_size=200, epochs=10)"
      ],
      "metadata": {
        "id": "3r-iXjeC-IQn"
      },
      "execution_count": 25,
      "outputs": []
    },
    {
      "cell_type": "code",
      "source": [
        "model.wv.most_similar('детская')"
      ],
      "metadata": {
        "colab": {
          "base_uri": "https://localhost:8080/"
        },
        "id": "71-voxm5-Mq2",
        "outputId": "0dc57509-45ed-4658-b685-ff592b573099"
      },
      "execution_count": 27,
      "outputs": [
        {
          "output_type": "execute_result",
          "data": {
            "text/plain": [
              "[('Кроватка', 0.808512270450592),\n",
              " ('Горка', 0.7847390174865723),\n",
              " ('KIDS', 0.7786445617675781),\n",
              " ('приставная', 0.7524115443229675),\n",
              " ('кроватка', 0.7435532808303833),\n",
              " ('50548', 0.7391736507415771),\n",
              " ('люлька', 0.7380459308624268),\n",
              " ('Babycare', 0.7362977862358093),\n",
              " ('Новомосковский', 0.7315843105316162),\n",
              " ('каталка', 0.7288681864738464)]"
            ]
          },
          "metadata": {},
          "execution_count": 27
        }
      ]
    },
    {
      "cell_type": "code",
      "source": [
        "model.wv.similarity('Apple','Samsung')"
      ],
      "metadata": {
        "colab": {
          "base_uri": "https://localhost:8080/"
        },
        "id": "0bY4Z1fp-rNd",
        "outputId": "18e65517-dac4-40bd-906c-98d6f38318cc"
      },
      "execution_count": 33,
      "outputs": [
        {
          "output_type": "execute_result",
          "data": {
            "text/plain": [
              "0.7698821"
            ]
          },
          "metadata": {},
          "execution_count": 33
        }
      ]
    },
    {
      "cell_type": "code",
      "source": [
        "model.wv.save_word2vec_format('embeddings.txt', binary=False)"
      ],
      "metadata": {
        "id": "sdTNiytf-_eW"
      },
      "execution_count": 34,
      "outputs": []
    },
    {
      "cell_type": "code",
      "source": [
        "!python -m spacy init vectors ru embeddings.txt spacy_embeddings --name title_vectors"
      ],
      "metadata": {
        "colab": {
          "base_uri": "https://localhost:8080/"
        },
        "id": "pmQw3iuY_Gg_",
        "outputId": "b3364327-fd56-42ec-8eb9-e8ecc6d572a0"
      },
      "execution_count": 35,
      "outputs": [
        {
          "output_type": "stream",
          "name": "stdout",
          "text": [
            "/usr/local/lib/python3.9/dist-packages/torch/cuda/__init__.py:497: UserWarning: Can't initialize NVML\n",
            "  warnings.warn(\"Can't initialize NVML\")\n",
            "2023-03-21 16:24:54.264395: W tensorflow/compiler/xla/stream_executor/platform/default/dso_loader.cc:64] Could not load dynamic library 'libnvinfer.so.7'; dlerror: libnvinfer.so.7: cannot open shared object file: No such file or directory; LD_LIBRARY_PATH: /usr/local/nvidia/lib:/usr/local/nvidia/lib64\n",
            "2023-03-21 16:24:54.264517: W tensorflow/compiler/xla/stream_executor/platform/default/dso_loader.cc:64] Could not load dynamic library 'libnvinfer_plugin.so.7'; dlerror: libnvinfer_plugin.so.7: cannot open shared object file: No such file or directory; LD_LIBRARY_PATH: /usr/local/nvidia/lib:/usr/local/nvidia/lib64\n",
            "2023-03-21 16:24:54.264536: W tensorflow/compiler/tf2tensorrt/utils/py_utils.cc:38] TF-TRT Warning: Cannot dlopen some TensorRT libraries. If you would like to use Nvidia GPU with TensorRT, please make sure the missing libraries mentioned above are installed properly.\n",
            "2023-03-21 16:24:56.308559: E tensorflow/compiler/xla/stream_executor/cuda/cuda_driver.cc:267] failed call to cuInit: CUDA_ERROR_NO_DEVICE: no CUDA-capable device is detected\n",
            "\u001b[38;5;4mℹ Creating blank nlp object for language 'ru'\u001b[0m\n",
            "[2023-03-21 16:24:57,114] [INFO] Reading vectors from embeddings.txt\n",
            "42772it [00:02, 19803.02it/s]\n",
            "[2023-03-21 16:24:59,277] [INFO] Loaded vectors from embeddings.txt\n",
            "\u001b[38;5;2m✔ Successfully converted 42772 vectors\u001b[0m\n",
            "\u001b[38;5;2m✔ Saved nlp object with vectors to output directory. You can now use\n",
            "the path to it in your config as the 'vectors' setting in [initialize].\u001b[0m\n",
            "/content/spacy_embeddings\n"
          ]
        }
      ]
    },
    {
      "cell_type": "code",
      "source": [
        "nlp = spacy.load('spacy_embeddings')"
      ],
      "metadata": {
        "id": "PWIByvdoBMlI"
      },
      "execution_count": 36,
      "outputs": []
    },
    {
      "cell_type": "code",
      "source": [
        "nlp.add_pipe('ner')\n",
        "nlp.to_disk('spacy_embeddings')"
      ],
      "metadata": {
        "id": "QfbTpQFYBR4d"
      },
      "execution_count": 37,
      "outputs": []
    },
    {
      "cell_type": "code",
      "source": [
        "!python -m spacy train spacy_embeddings/config.cfg --output spacy_model --paths.train train.spacy --paths.dev test.spacy"
      ],
      "metadata": {
        "colab": {
          "base_uri": "https://localhost:8080/"
        },
        "id": "B6Kdd0SaBVid",
        "outputId": "76a87f87-81cd-4125-e1b0-74635fb63186"
      },
      "execution_count": 40,
      "outputs": [
        {
          "output_type": "stream",
          "name": "stdout",
          "text": [
            "/usr/local/lib/python3.9/dist-packages/torch/cuda/__init__.py:497: UserWarning: Can't initialize NVML\n",
            "  warnings.warn(\"Can't initialize NVML\")\n",
            "2023-03-21 16:37:47.120616: W tensorflow/compiler/xla/stream_executor/platform/default/dso_loader.cc:64] Could not load dynamic library 'libnvinfer.so.7'; dlerror: libnvinfer.so.7: cannot open shared object file: No such file or directory; LD_LIBRARY_PATH: /usr/local/nvidia/lib:/usr/local/nvidia/lib64\n",
            "2023-03-21 16:37:47.120801: W tensorflow/compiler/xla/stream_executor/platform/default/dso_loader.cc:64] Could not load dynamic library 'libnvinfer_plugin.so.7'; dlerror: libnvinfer_plugin.so.7: cannot open shared object file: No such file or directory; LD_LIBRARY_PATH: /usr/local/nvidia/lib:/usr/local/nvidia/lib64\n",
            "2023-03-21 16:37:47.120835: W tensorflow/compiler/tf2tensorrt/utils/py_utils.cc:38] TF-TRT Warning: Cannot dlopen some TensorRT libraries. If you would like to use Nvidia GPU with TensorRT, please make sure the missing libraries mentioned above are installed properly.\n",
            "2023-03-21 16:37:49.634078: E tensorflow/compiler/xla/stream_executor/cuda/cuda_driver.cc:267] failed call to cuInit: CUDA_ERROR_NO_DEVICE: no CUDA-capable device is detected\n",
            "\u001b[38;5;4mℹ Saving to output directory: spacy_model\u001b[0m\n",
            "\u001b[38;5;4mℹ Using CPU\u001b[0m\n",
            "\u001b[1m\n",
            "=========================== Initializing pipeline ===========================\u001b[0m\n",
            "[2023-03-21 16:37:50,270] [INFO] Set up nlp object from config\n",
            "[2023-03-21 16:37:50,283] [INFO] Pipeline: ['ner']\n",
            "[2023-03-21 16:37:50,286] [INFO] Created vocabulary\n",
            "[2023-03-21 16:37:50,289] [INFO] Finished initializing nlp object\n",
            "[2023-03-21 16:38:09,627] [INFO] Initialized pipeline components: ['ner']\n",
            "\u001b[38;5;2m✔ Initialized pipeline\u001b[0m\n",
            "\u001b[1m\n",
            "============================= Training pipeline =============================\u001b[0m\n",
            "\u001b[38;5;4mℹ Pipeline: ['ner']\u001b[0m\n",
            "\u001b[38;5;4mℹ Initial learn rate: 0.001\u001b[0m\n",
            "E    #       LOSS NER  ENTS_F  ENTS_P  ENTS_R  SCORE \n",
            "---  ------  --------  ------  ------  ------  ------\n",
            "  0       0     38.50    0.00    0.00    0.00    0.00\n",
            "  0     200   2547.26   63.36   60.76   66.19    0.63\n",
            "  0     400   1352.65   76.31   75.60   77.03    0.76\n",
            "  0     600   1399.09   80.76   79.13   82.46    0.81\n",
            "  0     800   1287.24   82.78   81.13   84.50    0.83\n",
            "  0    1000   1489.21   84.91   87.33   82.62    0.85\n",
            "  0    1200   1770.32   87.22   88.56   85.92    0.87\n",
            "  0    1400   1849.93   88.40   87.19   89.65    0.88\n",
            "  0    1600   2087.14   89.50   91.30   87.77    0.89\n",
            "  0    1800   2341.05   90.88   92.47   89.34    0.91\n",
            "  0    2000   2619.10   90.99   88.90   93.19    0.91\n",
            "  1    2200   2547.17   91.39   89.24   93.64    0.91\n",
            "  1    2400   2652.65   92.35   91.02   93.72    0.92\n",
            "  1    2600   2641.42   93.44   93.50   93.37    0.93\n",
            "  1    2800   2377.79   93.48   93.46   93.50    0.93\n",
            "  2    3000   1735.64   93.42   93.54   93.30    0.93\n",
            "  2    3200   1888.75   93.51   92.59   94.45    0.94\n",
            "  2    3400   1990.84   93.76   93.44   94.09    0.94\n",
            "  3    3600   1710.62   93.82   93.49   94.15    0.94\n",
            "  3    3800   1503.74   93.83   93.35   94.31    0.94\n",
            "  3    4000   1614.46   93.49   92.19   94.84    0.93\n",
            "  4    4200   1575.04   94.02   94.03   94.01    0.94\n",
            "  4    4400   1191.36   93.61   93.14   94.09    0.94\n",
            "  4    4600   1291.34   94.17   94.19   94.16    0.94\n",
            "  4    4800   1323.67   94.05   93.67   94.43    0.94\n",
            "  5    5000   1135.44   93.92   93.54   94.31    0.94\n",
            "  5    5200   1170.01   93.83   92.93   94.76    0.94\n",
            "  5    5400   1098.21   93.79   93.13   94.45    0.94\n",
            "  6    5600   1204.71   94.25   94.01   94.50    0.94\n",
            "  6    5800    901.58   94.10   94.08   94.12    0.94\n",
            "  6    6000   1050.73   94.08   93.61   94.55    0.94\n",
            "  6    6200   1123.86   94.24   93.50   94.99    0.94\n",
            "  7    6400    850.90   93.89   93.28   94.51    0.94\n",
            "  7    6600    955.51   94.10   93.69   94.50    0.94\n",
            "  7    6800    961.97   94.09   94.22   93.96    0.94\n",
            "  8    7000    885.05   94.22   94.13   94.30    0.94\n",
            "  8    7200    765.92   93.96   94.17   93.74    0.94\n",
            "\u001b[38;5;2m✔ Saved pipeline to output directory\u001b[0m\n",
            "spacy_model/model-last\n"
          ]
        }
      ]
    },
    {
      "cell_type": "code",
      "source": [
        "!zip -r /content/spacy_model.zip /content/spacy_model"
      ],
      "metadata": {
        "colab": {
          "base_uri": "https://localhost:8080/"
        },
        "id": "PunWjKJo2-X9",
        "outputId": "d0e6cb66-135d-4cdc-ac1f-dbbaa1f46ced"
      },
      "execution_count": 43,
      "outputs": [
        {
          "output_type": "stream",
          "name": "stdout",
          "text": [
            "  adding: content/spacy_model/ (stored 0%)\n",
            "  adding: content/spacy_model/model-last/ (stored 0%)\n",
            "  adding: content/spacy_model/model-last/meta.json (deflated 54%)\n",
            "  adding: content/spacy_model/model-last/vocab/ (stored 0%)\n",
            "  adding: content/spacy_model/model-last/vocab/lookups.bin (stored 0%)\n",
            "  adding: content/spacy_model/model-last/vocab/vectors.cfg (stored 0%)\n",
            "  adding: content/spacy_model/model-last/vocab/vectors (deflated 45%)\n",
            "  adding: content/spacy_model/model-last/vocab/strings.json (deflated 86%)\n",
            "  adding: content/spacy_model/model-last/vocab/key2row (stored 0%)\n",
            "  adding: content/spacy_model/model-last/config.cfg (deflated 59%)\n",
            "  adding: content/spacy_model/model-last/tokenizer (deflated 84%)\n",
            "  adding: content/spacy_model/model-last/ner/ (stored 0%)\n",
            "  adding: content/spacy_model/model-last/ner/model (deflated 8%)\n",
            "  adding: content/spacy_model/model-last/ner/moves (deflated 42%)\n",
            "  adding: content/spacy_model/model-last/ner/cfg (deflated 33%)\n",
            "  adding: content/spacy_model/model-best/ (stored 0%)\n",
            "  adding: content/spacy_model/model-best/meta.json (deflated 55%)\n",
            "  adding: content/spacy_model/model-best/vocab/ (stored 0%)\n",
            "  adding: content/spacy_model/model-best/vocab/lookups.bin (stored 0%)\n",
            "  adding: content/spacy_model/model-best/vocab/vectors.cfg (stored 0%)\n",
            "  adding: content/spacy_model/model-best/vocab/vectors (deflated 45%)\n",
            "  adding: content/spacy_model/model-best/vocab/strings.json (deflated 86%)\n",
            "  adding: content/spacy_model/model-best/vocab/key2row (stored 0%)\n",
            "  adding: content/spacy_model/model-best/config.cfg (deflated 59%)\n",
            "  adding: content/spacy_model/model-best/tokenizer (deflated 84%)\n",
            "  adding: content/spacy_model/model-best/ner/ (stored 0%)\n",
            "  adding: content/spacy_model/model-best/ner/model (deflated 8%)\n",
            "  adding: content/spacy_model/model-best/ner/moves (deflated 42%)\n",
            "  adding: content/spacy_model/model-best/ner/cfg (deflated 33%)\n"
          ]
        }
      ]
    },
    {
      "cell_type": "code",
      "source": [
        "model.wv.save_word2vec_format('embeddings.txt', binary=False)"
      ],
      "metadata": {
        "id": "SrttpuaNB3Qx"
      },
      "execution_count": null,
      "outputs": []
    },
    {
      "cell_type": "code",
      "source": [
        "!python -m spacy init vectors ru embeddings.txt spacy_embeddings"
      ],
      "metadata": {
        "colab": {
          "base_uri": "https://localhost:8080/"
        },
        "id": "qeC12k9ECj-f",
        "outputId": "95da9e8d-8b11-41d3-abc2-d4a2c355a545"
      },
      "execution_count": null,
      "outputs": [
        {
          "output_type": "stream",
          "name": "stdout",
          "text": [
            "/usr/local/lib/python3.9/dist-packages/torch/cuda/__init__.py:497: UserWarning: Can't initialize NVML\n",
            "  warnings.warn(\"Can't initialize NVML\")\n",
            "2023-03-11 15:12:15.337289: W tensorflow/compiler/xla/stream_executor/platform/default/dso_loader.cc:64] Could not load dynamic library 'libnvinfer.so.7'; dlerror: libnvinfer.so.7: cannot open shared object file: No such file or directory; LD_LIBRARY_PATH: /usr/local/nvidia/lib:/usr/local/nvidia/lib64\n",
            "2023-03-11 15:12:15.337439: W tensorflow/compiler/xla/stream_executor/platform/default/dso_loader.cc:64] Could not load dynamic library 'libnvinfer_plugin.so.7'; dlerror: libnvinfer_plugin.so.7: cannot open shared object file: No such file or directory; LD_LIBRARY_PATH: /usr/local/nvidia/lib:/usr/local/nvidia/lib64\n",
            "2023-03-11 15:12:15.337464: W tensorflow/compiler/tf2tensorrt/utils/py_utils.cc:38] TF-TRT Warning: Cannot dlopen some TensorRT libraries. If you would like to use Nvidia GPU with TensorRT, please make sure the missing libraries mentioned above are installed properly.\n",
            "2023-03-11 15:12:17.487156: E tensorflow/compiler/xla/stream_executor/cuda/cuda_driver.cc:267] failed call to cuInit: CUDA_ERROR_NO_DEVICE: no CUDA-capable device is detected\n",
            "\u001b[38;5;4mℹ Creating blank nlp object for language 'ru'\u001b[0m\n",
            "[2023-03-11 15:12:18,442] [INFO] Reading vectors from embeddings.txt\n",
            "15994it [00:00, 18595.58it/s]\n",
            "Traceback (most recent call last):\n",
            "  File \"/usr/lib/python3.9/runpy.py\", line 197, in _run_module_as_main\n",
            "    return _run_code(code, main_globals, None,\n",
            "  File \"/usr/lib/python3.9/runpy.py\", line 87, in _run_code\n",
            "    exec(code, run_globals)\n",
            "  File \"/usr/local/lib/python3.9/dist-packages/spacy/__main__.py\", line 4, in <module>\n",
            "    setup_cli()\n",
            "  File \"/usr/local/lib/python3.9/dist-packages/spacy/cli/_util.py\", line 71, in setup_cli\n",
            "    command(prog_name=COMMAND)\n",
            "  File \"/usr/local/lib/python3.9/dist-packages/click/core.py\", line 1130, in __call__\n",
            "    return self.main(*args, **kwargs)\n",
            "  File \"/usr/local/lib/python3.9/dist-packages/typer/core.py\", line 778, in main\n",
            "    return _main(\n",
            "  File \"/usr/local/lib/python3.9/dist-packages/typer/core.py\", line 216, in _main\n",
            "    rv = self.invoke(ctx)\n",
            "  File \"/usr/local/lib/python3.9/dist-packages/click/core.py\", line 1657, in invoke\n",
            "    return _process_result(sub_ctx.command.invoke(sub_ctx))\n",
            "  File \"/usr/local/lib/python3.9/dist-packages/click/core.py\", line 1657, in invoke\n",
            "    return _process_result(sub_ctx.command.invoke(sub_ctx))\n",
            "  File \"/usr/local/lib/python3.9/dist-packages/click/core.py\", line 1404, in invoke\n",
            "    return ctx.invoke(self.callback, **ctx.params)\n",
            "  File \"/usr/local/lib/python3.9/dist-packages/click/core.py\", line 760, in invoke\n",
            "    return __callback(*args, **kwargs)\n",
            "  File \"/usr/local/lib/python3.9/dist-packages/typer/main.py\", line 683, in wrapper\n",
            "    return callback(**use_params)  # type: ignore\n",
            "  File \"/usr/local/lib/python3.9/dist-packages/spacy/cli/init_pipeline.py\", line 38, in init_vectors_cli\n",
            "    convert_vectors(\n",
            "  File \"/usr/local/lib/python3.9/dist-packages/spacy/training/initialize.py\", line 220, in convert_vectors\n",
            "    vectors_data, vector_keys, floret_settings = read_vectors(\n",
            "  File \"/usr/local/lib/python3.9/dist-packages/spacy/training/initialize.py\", line 289, in read_vectors\n",
            "    raise ValueError(Errors.E094.format(line_num=i, loc=vectors_loc))\n",
            "ValueError: [E094] Error reading line 15994 in vectors file embeddings.txt.\n"
          ]
        }
      ]
    },
    {
      "cell_type": "code",
      "source": [
        "def load_word_vectors(model_name, word_vectors):\n",
        "    import spacy\n",
        "    import subprocess\n",
        "    import sys\n",
        "    subprocess.run([sys.executable,\n",
        "                    \"-m\",\n",
        "                    \"spacy\",\n",
        "                    \"init-model\",\n",
        "                    \"en\",\n",
        "                    model_name,\n",
        "                    \"--vectors-loc\",\n",
        "                    word_vectors\n",
        "                        ]\n",
        "                    )\n",
        "    \n",
        "load_word_vectors('custom_model', 'embeddings.txt')"
      ],
      "metadata": {
        "id": "W-hCMp2iJ0yc"
      },
      "execution_count": null,
      "outputs": []
    },
    {
      "cell_type": "code",
      "source": [
        "!python -m spacy --help"
      ],
      "metadata": {
        "colab": {
          "base_uri": "https://localhost:8080/"
        },
        "id": "qOCxvHBEKm4k",
        "outputId": "ca7fc3e1-9bb8-4ab2-879d-a72c9d68b282"
      },
      "execution_count": null,
      "outputs": [
        {
          "output_type": "stream",
          "name": "stdout",
          "text": [
            "/usr/local/lib/python3.9/dist-packages/torch/cuda/__init__.py:497: UserWarning: Can't initialize NVML\n",
            "  warnings.warn(\"Can't initialize NVML\")\n",
            "2023-03-11 14:54:36.815624: W tensorflow/compiler/xla/stream_executor/platform/default/dso_loader.cc:64] Could not load dynamic library 'libnvinfer.so.7'; dlerror: libnvinfer.so.7: cannot open shared object file: No such file or directory; LD_LIBRARY_PATH: /usr/local/nvidia/lib:/usr/local/nvidia/lib64\n",
            "2023-03-11 14:54:36.815745: W tensorflow/compiler/xla/stream_executor/platform/default/dso_loader.cc:64] Could not load dynamic library 'libnvinfer_plugin.so.7'; dlerror: libnvinfer_plugin.so.7: cannot open shared object file: No such file or directory; LD_LIBRARY_PATH: /usr/local/nvidia/lib:/usr/local/nvidia/lib64\n",
            "2023-03-11 14:54:36.815769: W tensorflow/compiler/tf2tensorrt/utils/py_utils.cc:38] TF-TRT Warning: Cannot dlopen some TensorRT libraries. If you would like to use Nvidia GPU with TensorRT, please make sure the missing libraries mentioned above are installed properly.\n",
            "2023-03-11 14:54:38.475181: E tensorflow/compiler/xla/stream_executor/cuda/cuda_driver.cc:267] failed call to cuInit: CUDA_ERROR_NO_DEVICE: no CUDA-capable device is detected\n",
            "Usage: python -m spacy [OPTIONS] COMMAND [ARGS]...\n",
            "\n",
            "  spaCy Command-line Interface\n",
            "\n",
            "  DOCS: https://spacy.io/api/cli\n",
            "\n",
            "Options:\n",
            "  --install-completion [bash|zsh|fish|powershell|pwsh]\n",
            "                                  Install\n",
            "                                  completion for\n",
            "                                  the specified\n",
            "                                  shell.\n",
            "  --show-completion [bash|zsh|fish|powershell|pwsh]\n",
            "                                  Show completion\n",
            "                                  for the\n",
            "                                  specified shell,\n",
            "                                  to copy it or\n",
            "                                  customize the\n",
            "                                  installation.\n",
            "  --help                          Show this\n",
            "                                  message and\n",
            "                                  exit.\n",
            "\n",
            "Commands:\n",
            "  assemble  Assemble a spaCy pipeline from a...\n",
            "  convert   Convert files into json or DocBin...\n",
            "  debug     Suite of helpful commands for...\n",
            "  download  Download compatible trained...\n",
            "  evaluate  Evaluate a trained pipeline.\n",
            "  info      Print info about spaCy installation.\n",
            "  init      Commands for initializing configs...\n",
            "  package   Generate an installable Python...\n",
            "  pretrain  Pre-train the 'token-to-vector'...\n",
            "  project   Command-line interface for spaCy...\n",
            "  train     Train or update a spaCy pipeline.\n",
            "  validate  Validate the currently installed...\n"
          ]
        }
      ]
    },
    {
      "cell_type": "code",
      "source": [
        "!python -m spacy init vectors ru custom_model --vectors-loc embeddings.txt"
      ],
      "metadata": {
        "colab": {
          "base_uri": "https://localhost:8080/"
        },
        "id": "p6-6Z3fwCtsN",
        "outputId": "ee8b1aa7-8dcd-4974-bf03-8d3b820b4e5b"
      },
      "execution_count": null,
      "outputs": [
        {
          "output_type": "stream",
          "name": "stdout",
          "text": [
            "/usr/local/lib/python3.9/dist-packages/torch/cuda/__init__.py:497: UserWarning: Can't initialize NVML\n",
            "  warnings.warn(\"Can't initialize NVML\")\n",
            "2023-03-11 14:53:36.617447: W tensorflow/compiler/xla/stream_executor/platform/default/dso_loader.cc:64] Could not load dynamic library 'libnvinfer.so.7'; dlerror: libnvinfer.so.7: cannot open shared object file: No such file or directory; LD_LIBRARY_PATH: /usr/local/nvidia/lib:/usr/local/nvidia/lib64\n",
            "2023-03-11 14:53:36.617573: W tensorflow/compiler/xla/stream_executor/platform/default/dso_loader.cc:64] Could not load dynamic library 'libnvinfer_plugin.so.7'; dlerror: libnvinfer_plugin.so.7: cannot open shared object file: No such file or directory; LD_LIBRARY_PATH: /usr/local/nvidia/lib:/usr/local/nvidia/lib64\n",
            "2023-03-11 14:53:36.617597: W tensorflow/compiler/tf2tensorrt/utils/py_utils.cc:38] TF-TRT Warning: Cannot dlopen some TensorRT libraries. If you would like to use Nvidia GPU with TensorRT, please make sure the missing libraries mentioned above are installed properly.\n",
            "2023-03-11 14:53:38.227293: E tensorflow/compiler/xla/stream_executor/cuda/cuda_driver.cc:267] failed call to cuInit: CUDA_ERROR_NO_DEVICE: no CUDA-capable device is detected\n",
            "Usage: python -m spacy [OPTIONS] COMMAND [ARGS]...\n",
            "Try 'python -m spacy --help' for help.\n",
            "\n",
            "Error: No such command 'init-model'.\n"
          ]
        }
      ]
    },
    {
      "cell_type": "code",
      "source": [
        "nlp.add_pipe('ner')\n",
        "nlp.to_disk('models/spacy_embeddings')"
      ],
      "metadata": {
        "id": "a8bhTO64C4Rr"
      },
      "execution_count": null,
      "outputs": []
    }
  ]
}