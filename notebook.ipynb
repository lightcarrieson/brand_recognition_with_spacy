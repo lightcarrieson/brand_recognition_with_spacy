{
  "nbformat": 4,
  "nbformat_minor": 0,
  "metadata": {
    "colab": {
      "provenance": []
    },
    "kernelspec": {
      "name": "python3",
      "display_name": "Python 3"
    },
    "language_info": {
      "name": "python"
    },
    "gpuClass": "standard"
  },
  "cells": [
    {
      "cell_type": "code",
      "source": [
        "!wget dataset_ozon.tsv https://raw.githubusercontent.com/ustera/brand_ner/main/dataset_ozon.tsv"
      ],
      "metadata": {
        "colab": {
          "base_uri": "https://localhost:8080/"
        },
        "id": "F268NQM4Pd2M",
        "outputId": "68ae1a18-5ff0-4e61-f86e-f4c1e24d023f"
      },
      "execution_count": 1,
      "outputs": [
        {
          "output_type": "stream",
          "name": "stdout",
          "text": [
            "--2023-03-21 16:13:12--  http://dataset_ozon.tsv/\n",
            "Resolving dataset_ozon.tsv (dataset_ozon.tsv)... failed: Name or service not known.\n",
            "wget: unable to resolve host address ‘dataset_ozon.tsv’\n",
            "--2023-03-21 16:13:12--  https://raw.githubusercontent.com/ustera/brand_ner/main/dataset_ozon.tsv\n",
            "Resolving raw.githubusercontent.com (raw.githubusercontent.com)... 185.199.108.133, 185.199.109.133, 185.199.110.133, ...\n",
            "Connecting to raw.githubusercontent.com (raw.githubusercontent.com)|185.199.108.133|:443... connected.\n",
            "HTTP request sent, awaiting response... 200 OK\n",
            "Length: 9640627 (9.2M) [text/plain]\n",
            "Saving to: ‘dataset_ozon.tsv.1’\n",
            "\n",
            "\rdataset_ozon.tsv.1    0%[                    ]       0  --.-KB/s               \rdataset_ozon.tsv.1  100%[===================>]   9.19M  --.-KB/s    in 0.03s   \n",
            "\n",
            "2023-03-21 16:13:12 (283 MB/s) - ‘dataset_ozon.tsv.1’ saved [9640627/9640627]\n",
            "\n",
            "FINISHED --2023-03-21 16:13:12--\n",
            "Total wall clock time: 0.2s\n",
            "Downloaded: 1 files, 9.2M in 0.03s (283 MB/s)\n"
          ]
        }
      ]
    },
    {
      "cell_type": "code",
      "execution_count": 2,
      "metadata": {
        "colab": {
          "base_uri": "https://localhost:8080/"
        },
        "id": "LDP0-tri9r_E",
        "outputId": "8780b306-2ef2-480d-926b-37419d31db81"
      },
      "outputs": [
        {
          "output_type": "stream",
          "name": "stderr",
          "text": [
            "/usr/local/lib/python3.9/dist-packages/torch/cuda/__init__.py:497: UserWarning: Can't initialize NVML\n",
            "  warnings.warn(\"Can't initialize NVML\")\n"
          ]
        }
      ],
      "source": [
        "import pandas as pd\n",
        "import numpy as np\n",
        "from tqdm import tqdm\n",
        "import spacy\n",
        "import json\n",
        "from sklearn.model_selection import train_test_split\n",
        "from spacy.tokens import DocBin\n",
        "import srsly\n",
        "from re import sub\n",
        "from string import punctuation\n",
        "tqdm.pandas()"
      ]
    },
    {
      "cell_type": "code",
      "source": [
        "!python3 -m spacy download ru_core_news_lg"
      ],
      "metadata": {
        "colab": {
          "base_uri": "https://localhost:8080/"
        },
        "id": "1a5jMt96cF-T",
        "outputId": "6e2569c1-e1ff-4cb5-c42e-86ce1725f1a7"
      },
      "execution_count": 3,
      "outputs": [
        {
          "output_type": "stream",
          "name": "stdout",
          "text": [
            "/usr/local/lib/python3.9/dist-packages/torch/cuda/__init__.py:497: UserWarning: Can't initialize NVML\n",
            "  warnings.warn(\"Can't initialize NVML\")\n",
            "2023-03-21 16:13:27.329936: W tensorflow/compiler/xla/stream_executor/platform/default/dso_loader.cc:64] Could not load dynamic library 'libnvinfer.so.7'; dlerror: libnvinfer.so.7: cannot open shared object file: No such file or directory; LD_LIBRARY_PATH: /usr/local/nvidia/lib:/usr/local/nvidia/lib64\n",
            "2023-03-21 16:13:27.330074: W tensorflow/compiler/xla/stream_executor/platform/default/dso_loader.cc:64] Could not load dynamic library 'libnvinfer_plugin.so.7'; dlerror: libnvinfer_plugin.so.7: cannot open shared object file: No such file or directory; LD_LIBRARY_PATH: /usr/local/nvidia/lib:/usr/local/nvidia/lib64\n",
            "2023-03-21 16:13:27.330101: W tensorflow/compiler/tf2tensorrt/utils/py_utils.cc:38] TF-TRT Warning: Cannot dlopen some TensorRT libraries. If you would like to use Nvidia GPU with TensorRT, please make sure the missing libraries mentioned above are installed properly.\n",
            "2023-03-21 16:13:29.294558: E tensorflow/compiler/xla/stream_executor/cuda/cuda_driver.cc:267] failed call to cuInit: CUDA_ERROR_NO_DEVICE: no CUDA-capable device is detected\n",
            "Looking in indexes: https://pypi.org/simple, https://us-python.pkg.dev/colab-wheels/public/simple/\n",
            "Collecting ru-core-news-lg==3.5.0\n",
            "  Downloading https://github.com/explosion/spacy-models/releases/download/ru_core_news_lg-3.5.0/ru_core_news_lg-3.5.0-py3-none-any.whl (513.4 MB)\n",
            "\u001b[2K     \u001b[90m━━━━━━━━━━━━━━━━━━━━━━━━━━━━━━━━━━━━━━━\u001b[0m \u001b[32m513.4/513.4 MB\u001b[0m \u001b[31m2.2 MB/s\u001b[0m eta \u001b[36m0:00:00\u001b[0m\n",
            "\u001b[?25hRequirement already satisfied: spacy<3.6.0,>=3.5.0 in /usr/local/lib/python3.9/dist-packages (from ru-core-news-lg==3.5.0) (3.5.1)\n",
            "Requirement already satisfied: pymorphy3>=1.0.0 in /usr/local/lib/python3.9/dist-packages (from ru-core-news-lg==3.5.0) (1.2.0)\n",
            "Requirement already satisfied: dawg-python>=0.7.1 in /usr/local/lib/python3.9/dist-packages (from pymorphy3>=1.0.0->ru-core-news-lg==3.5.0) (0.7.2)\n",
            "Requirement already satisfied: pymorphy3-dicts-ru in /usr/local/lib/python3.9/dist-packages (from pymorphy3>=1.0.0->ru-core-news-lg==3.5.0) (2.4.417150.4580142)\n",
            "Requirement already satisfied: docopt>=0.6 in /usr/local/lib/python3.9/dist-packages (from pymorphy3>=1.0.0->ru-core-news-lg==3.5.0) (0.6.2)\n",
            "Requirement already satisfied: langcodes<4.0.0,>=3.2.0 in /usr/local/lib/python3.9/dist-packages (from spacy<3.6.0,>=3.5.0->ru-core-news-lg==3.5.0) (3.3.0)\n",
            "Requirement already satisfied: packaging>=20.0 in /usr/local/lib/python3.9/dist-packages (from spacy<3.6.0,>=3.5.0->ru-core-news-lg==3.5.0) (23.0)\n",
            "Requirement already satisfied: srsly<3.0.0,>=2.4.3 in /usr/local/lib/python3.9/dist-packages (from spacy<3.6.0,>=3.5.0->ru-core-news-lg==3.5.0) (2.4.6)\n",
            "Requirement already satisfied: spacy-legacy<3.1.0,>=3.0.11 in /usr/local/lib/python3.9/dist-packages (from spacy<3.6.0,>=3.5.0->ru-core-news-lg==3.5.0) (3.0.12)\n",
            "Requirement already satisfied: pydantic!=1.8,!=1.8.1,<1.11.0,>=1.7.4 in /usr/local/lib/python3.9/dist-packages (from spacy<3.6.0,>=3.5.0->ru-core-news-lg==3.5.0) (1.10.6)\n",
            "Requirement already satisfied: thinc<8.2.0,>=8.1.8 in /usr/local/lib/python3.9/dist-packages (from spacy<3.6.0,>=3.5.0->ru-core-news-lg==3.5.0) (8.1.9)\n",
            "Requirement already satisfied: jinja2 in /usr/local/lib/python3.9/dist-packages (from spacy<3.6.0,>=3.5.0->ru-core-news-lg==3.5.0) (3.1.2)\n",
            "Requirement already satisfied: cymem<2.1.0,>=2.0.2 in /usr/local/lib/python3.9/dist-packages (from spacy<3.6.0,>=3.5.0->ru-core-news-lg==3.5.0) (2.0.7)\n",
            "Requirement already satisfied: spacy-loggers<2.0.0,>=1.0.0 in /usr/local/lib/python3.9/dist-packages (from spacy<3.6.0,>=3.5.0->ru-core-news-lg==3.5.0) (1.0.4)\n",
            "Requirement already satisfied: wasabi<1.2.0,>=0.9.1 in /usr/local/lib/python3.9/dist-packages (from spacy<3.6.0,>=3.5.0->ru-core-news-lg==3.5.0) (1.1.1)\n",
            "Requirement already satisfied: setuptools in /usr/local/lib/python3.9/dist-packages (from spacy<3.6.0,>=3.5.0->ru-core-news-lg==3.5.0) (63.4.3)\n",
            "Requirement already satisfied: typer<0.8.0,>=0.3.0 in /usr/local/lib/python3.9/dist-packages (from spacy<3.6.0,>=3.5.0->ru-core-news-lg==3.5.0) (0.7.0)\n",
            "Requirement already satisfied: pathy>=0.10.0 in /usr/local/lib/python3.9/dist-packages (from spacy<3.6.0,>=3.5.0->ru-core-news-lg==3.5.0) (0.10.1)\n",
            "Requirement already satisfied: murmurhash<1.1.0,>=0.28.0 in /usr/local/lib/python3.9/dist-packages (from spacy<3.6.0,>=3.5.0->ru-core-news-lg==3.5.0) (1.0.9)\n",
            "Requirement already satisfied: numpy>=1.15.0 in /usr/local/lib/python3.9/dist-packages (from spacy<3.6.0,>=3.5.0->ru-core-news-lg==3.5.0) (1.22.4)\n",
            "Requirement already satisfied: requests<3.0.0,>=2.13.0 in /usr/local/lib/python3.9/dist-packages (from spacy<3.6.0,>=3.5.0->ru-core-news-lg==3.5.0) (2.27.1)\n",
            "Requirement already satisfied: catalogue<2.1.0,>=2.0.6 in /usr/local/lib/python3.9/dist-packages (from spacy<3.6.0,>=3.5.0->ru-core-news-lg==3.5.0) (2.0.8)\n",
            "Requirement already satisfied: tqdm<5.0.0,>=4.38.0 in /usr/local/lib/python3.9/dist-packages (from spacy<3.6.0,>=3.5.0->ru-core-news-lg==3.5.0) (4.65.0)\n",
            "Requirement already satisfied: smart-open<7.0.0,>=5.2.1 in /usr/local/lib/python3.9/dist-packages (from spacy<3.6.0,>=3.5.0->ru-core-news-lg==3.5.0) (6.3.0)\n",
            "Requirement already satisfied: preshed<3.1.0,>=3.0.2 in /usr/local/lib/python3.9/dist-packages (from spacy<3.6.0,>=3.5.0->ru-core-news-lg==3.5.0) (3.0.8)\n",
            "Requirement already satisfied: typing-extensions>=4.2.0 in /usr/local/lib/python3.9/dist-packages (from pydantic!=1.8,!=1.8.1,<1.11.0,>=1.7.4->spacy<3.6.0,>=3.5.0->ru-core-news-lg==3.5.0) (4.5.0)\n",
            "Requirement already satisfied: certifi>=2017.4.17 in /usr/local/lib/python3.9/dist-packages (from requests<3.0.0,>=2.13.0->spacy<3.6.0,>=3.5.0->ru-core-news-lg==3.5.0) (2022.12.7)\n",
            "Requirement already satisfied: urllib3<1.27,>=1.21.1 in /usr/local/lib/python3.9/dist-packages (from requests<3.0.0,>=2.13.0->spacy<3.6.0,>=3.5.0->ru-core-news-lg==3.5.0) (1.26.15)\n",
            "Requirement already satisfied: charset-normalizer~=2.0.0 in /usr/local/lib/python3.9/dist-packages (from requests<3.0.0,>=2.13.0->spacy<3.6.0,>=3.5.0->ru-core-news-lg==3.5.0) (2.0.12)\n",
            "Requirement already satisfied: idna<4,>=2.5 in /usr/local/lib/python3.9/dist-packages (from requests<3.0.0,>=2.13.0->spacy<3.6.0,>=3.5.0->ru-core-news-lg==3.5.0) (3.4)\n",
            "Requirement already satisfied: blis<0.8.0,>=0.7.8 in /usr/local/lib/python3.9/dist-packages (from thinc<8.2.0,>=8.1.8->spacy<3.6.0,>=3.5.0->ru-core-news-lg==3.5.0) (0.7.9)\n",
            "Requirement already satisfied: confection<1.0.0,>=0.0.1 in /usr/local/lib/python3.9/dist-packages (from thinc<8.2.0,>=8.1.8->spacy<3.6.0,>=3.5.0->ru-core-news-lg==3.5.0) (0.0.4)\n",
            "Requirement already satisfied: click<9.0.0,>=7.1.1 in /usr/local/lib/python3.9/dist-packages (from typer<0.8.0,>=0.3.0->spacy<3.6.0,>=3.5.0->ru-core-news-lg==3.5.0) (8.1.3)\n",
            "Requirement already satisfied: MarkupSafe>=2.0 in /usr/local/lib/python3.9/dist-packages (from jinja2->spacy<3.6.0,>=3.5.0->ru-core-news-lg==3.5.0) (2.1.2)\n",
            "\u001b[38;5;2m✔ Download and installation successful\u001b[0m\n",
            "You can now load the package via spacy.load('ru_core_news_lg')\n"
          ]
        }
      ]
    },
    {
      "cell_type": "code",
      "source": [
        "ds = pd.read_csv('/content/dataset_ozon.tsv', sep = '\\t')\n",
        "ds = ds.drop(columns = ['Unnamed: 0'])"
      ],
      "metadata": {
        "id": "b1NjncMg95UW"
      },
      "execution_count": 4,
      "outputs": []
    },
    {
      "cell_type": "code",
      "source": [
        "ds"
      ],
      "metadata": {
        "id": "0ZbSQBNBfwZB",
        "outputId": "2fcdf8f1-ddee-4b3b-aade-ba8dbd4de7c9",
        "colab": {
          "base_uri": "https://localhost:8080/",
          "height": 424
        }
      },
      "execution_count": 5,
      "outputs": [
        {
          "output_type": "execute_result",
          "data": {
            "text/plain": [
              "                                                    name                brand\n",
              "0                   Игровая консоль PlayStation 5, белый          PlayStation\n",
              "1      Золотой Шелк Маска для волос гиалуроновая кисл...         Золотой Шелк\n",
              "2        Игровая консоль Microsoft Xbox Series X, черный            Microsoft\n",
              "3      L'Oreal Paris Infaillible 24H Fresh Wear Пудра...        L'Oreal Paris\n",
              "4      Maybelline New York Lifter Gloss Блеск для губ...  Maybelline New York\n",
              "...                                                  ...                  ...\n",
              "81774       Erborian BB Family BB карандаш, светлый, 3 г             Erborian\n",
              "81775  Комплект модулей сменных фильтрующих Аквафор Р...              Аквафор\n",
              "81776  Набор менструальных чаш Satisfyer Feel secure ...            Satisfyer\n",
              "81777  28048 Подстилка для надувных и каркасных бассе...                Intex\n",
              "81778                    Трусы женские befree 2116302102               befree\n",
              "\n",
              "[81779 rows x 2 columns]"
            ],
            "text/html": [
              "\n",
              "  <div id=\"df-a366e9d2-73f0-4fec-b186-5ec5de3b97ee\">\n",
              "    <div class=\"colab-df-container\">\n",
              "      <div>\n",
              "<style scoped>\n",
              "    .dataframe tbody tr th:only-of-type {\n",
              "        vertical-align: middle;\n",
              "    }\n",
              "\n",
              "    .dataframe tbody tr th {\n",
              "        vertical-align: top;\n",
              "    }\n",
              "\n",
              "    .dataframe thead th {\n",
              "        text-align: right;\n",
              "    }\n",
              "</style>\n",
              "<table border=\"1\" class=\"dataframe\">\n",
              "  <thead>\n",
              "    <tr style=\"text-align: right;\">\n",
              "      <th></th>\n",
              "      <th>name</th>\n",
              "      <th>brand</th>\n",
              "    </tr>\n",
              "  </thead>\n",
              "  <tbody>\n",
              "    <tr>\n",
              "      <th>0</th>\n",
              "      <td>Игровая консоль PlayStation 5, белый</td>\n",
              "      <td>PlayStation</td>\n",
              "    </tr>\n",
              "    <tr>\n",
              "      <th>1</th>\n",
              "      <td>Золотой Шелк Маска для волос гиалуроновая кисл...</td>\n",
              "      <td>Золотой Шелк</td>\n",
              "    </tr>\n",
              "    <tr>\n",
              "      <th>2</th>\n",
              "      <td>Игровая консоль Microsoft Xbox Series X, черный</td>\n",
              "      <td>Microsoft</td>\n",
              "    </tr>\n",
              "    <tr>\n",
              "      <th>3</th>\n",
              "      <td>L'Oreal Paris Infaillible 24H Fresh Wear Пудра...</td>\n",
              "      <td>L'Oreal Paris</td>\n",
              "    </tr>\n",
              "    <tr>\n",
              "      <th>4</th>\n",
              "      <td>Maybelline New York Lifter Gloss Блеск для губ...</td>\n",
              "      <td>Maybelline New York</td>\n",
              "    </tr>\n",
              "    <tr>\n",
              "      <th>...</th>\n",
              "      <td>...</td>\n",
              "      <td>...</td>\n",
              "    </tr>\n",
              "    <tr>\n",
              "      <th>81774</th>\n",
              "      <td>Erborian BB Family BB карандаш, светлый, 3 г</td>\n",
              "      <td>Erborian</td>\n",
              "    </tr>\n",
              "    <tr>\n",
              "      <th>81775</th>\n",
              "      <td>Комплект модулей сменных фильтрующих Аквафор Р...</td>\n",
              "      <td>Аквафор</td>\n",
              "    </tr>\n",
              "    <tr>\n",
              "      <th>81776</th>\n",
              "      <td>Набор менструальных чаш Satisfyer Feel secure ...</td>\n",
              "      <td>Satisfyer</td>\n",
              "    </tr>\n",
              "    <tr>\n",
              "      <th>81777</th>\n",
              "      <td>28048 Подстилка для надувных и каркасных бассе...</td>\n",
              "      <td>Intex</td>\n",
              "    </tr>\n",
              "    <tr>\n",
              "      <th>81778</th>\n",
              "      <td>Трусы женские befree 2116302102</td>\n",
              "      <td>befree</td>\n",
              "    </tr>\n",
              "  </tbody>\n",
              "</table>\n",
              "<p>81779 rows × 2 columns</p>\n",
              "</div>\n",
              "      <button class=\"colab-df-convert\" onclick=\"convertToInteractive('df-a366e9d2-73f0-4fec-b186-5ec5de3b97ee')\"\n",
              "              title=\"Convert this dataframe to an interactive table.\"\n",
              "              style=\"display:none;\">\n",
              "        \n",
              "  <svg xmlns=\"http://www.w3.org/2000/svg\" height=\"24px\"viewBox=\"0 0 24 24\"\n",
              "       width=\"24px\">\n",
              "    <path d=\"M0 0h24v24H0V0z\" fill=\"none\"/>\n",
              "    <path d=\"M18.56 5.44l.94 2.06.94-2.06 2.06-.94-2.06-.94-.94-2.06-.94 2.06-2.06.94zm-11 1L8.5 8.5l.94-2.06 2.06-.94-2.06-.94L8.5 2.5l-.94 2.06-2.06.94zm10 10l.94 2.06.94-2.06 2.06-.94-2.06-.94-.94-2.06-.94 2.06-2.06.94z\"/><path d=\"M17.41 7.96l-1.37-1.37c-.4-.4-.92-.59-1.43-.59-.52 0-1.04.2-1.43.59L10.3 9.45l-7.72 7.72c-.78.78-.78 2.05 0 2.83L4 21.41c.39.39.9.59 1.41.59.51 0 1.02-.2 1.41-.59l7.78-7.78 2.81-2.81c.8-.78.8-2.07 0-2.86zM5.41 20L4 18.59l7.72-7.72 1.47 1.35L5.41 20z\"/>\n",
              "  </svg>\n",
              "      </button>\n",
              "      \n",
              "  <style>\n",
              "    .colab-df-container {\n",
              "      display:flex;\n",
              "      flex-wrap:wrap;\n",
              "      gap: 12px;\n",
              "    }\n",
              "\n",
              "    .colab-df-convert {\n",
              "      background-color: #E8F0FE;\n",
              "      border: none;\n",
              "      border-radius: 50%;\n",
              "      cursor: pointer;\n",
              "      display: none;\n",
              "      fill: #1967D2;\n",
              "      height: 32px;\n",
              "      padding: 0 0 0 0;\n",
              "      width: 32px;\n",
              "    }\n",
              "\n",
              "    .colab-df-convert:hover {\n",
              "      background-color: #E2EBFA;\n",
              "      box-shadow: 0px 1px 2px rgba(60, 64, 67, 0.3), 0px 1px 3px 1px rgba(60, 64, 67, 0.15);\n",
              "      fill: #174EA6;\n",
              "    }\n",
              "\n",
              "    [theme=dark] .colab-df-convert {\n",
              "      background-color: #3B4455;\n",
              "      fill: #D2E3FC;\n",
              "    }\n",
              "\n",
              "    [theme=dark] .colab-df-convert:hover {\n",
              "      background-color: #434B5C;\n",
              "      box-shadow: 0px 1px 3px 1px rgba(0, 0, 0, 0.15);\n",
              "      filter: drop-shadow(0px 1px 2px rgba(0, 0, 0, 0.3));\n",
              "      fill: #FFFFFF;\n",
              "    }\n",
              "  </style>\n",
              "\n",
              "      <script>\n",
              "        const buttonEl =\n",
              "          document.querySelector('#df-a366e9d2-73f0-4fec-b186-5ec5de3b97ee button.colab-df-convert');\n",
              "        buttonEl.style.display =\n",
              "          google.colab.kernel.accessAllowed ? 'block' : 'none';\n",
              "\n",
              "        async function convertToInteractive(key) {\n",
              "          const element = document.querySelector('#df-a366e9d2-73f0-4fec-b186-5ec5de3b97ee');\n",
              "          const dataTable =\n",
              "            await google.colab.kernel.invokeFunction('convertToInteractive',\n",
              "                                                     [key], {});\n",
              "          if (!dataTable) return;\n",
              "\n",
              "          const docLinkHtml = 'Like what you see? Visit the ' +\n",
              "            '<a target=\"_blank\" href=https://colab.research.google.com/notebooks/data_table.ipynb>data table notebook</a>'\n",
              "            + ' to learn more about interactive tables.';\n",
              "          element.innerHTML = '';\n",
              "          dataTable['output_type'] = 'display_data';\n",
              "          await google.colab.output.renderOutput(dataTable, element);\n",
              "          const docLink = document.createElement('div');\n",
              "          docLink.innerHTML = docLinkHtml;\n",
              "          element.appendChild(docLink);\n",
              "        }\n",
              "      </script>\n",
              "    </div>\n",
              "  </div>\n",
              "  "
            ]
          },
          "metadata": {},
          "execution_count": 5
        }
      ]
    },
    {
      "cell_type": "code",
      "source": [
        "# add spaces either side of punctuation\n",
        "# remove multiple spaces\n",
        "# strip of spacelike characters\n",
        "ds = ds.applymap(lambda string: sub(r\"\\s{2,}\", \" \", sub(f'([{punctuation}]) ?', r\" \\1 \", string)).strip()) "
      ],
      "metadata": {
        "id": "rZp18TPRt2QF"
      },
      "execution_count": 6,
      "outputs": []
    },
    {
      "cell_type": "code",
      "source": [
        "ds"
      ],
      "metadata": {
        "colab": {
          "base_uri": "https://localhost:8080/",
          "height": 424
        },
        "id": "n8Vzkvj3v9rp",
        "outputId": "7db9563d-e171-44a3-9619-2bce41485e48"
      },
      "execution_count": 7,
      "outputs": [
        {
          "output_type": "execute_result",
          "data": {
            "text/plain": [
              "                                                    name                brand\n",
              "0                  Игровая консоль PlayStation 5 , белый          PlayStation\n",
              "1      Золотой Шелк Маска для волос гиалуроновая кисл...         Золотой Шелк\n",
              "2       Игровая консоль Microsoft Xbox Series X , черный            Microsoft\n",
              "3      L ' Oreal Paris Infaillible 24H Fresh Wear Пуд...      L ' Oreal Paris\n",
              "4      Maybelline New York Lifter Gloss Блеск для губ...  Maybelline New York\n",
              "...                                                  ...                  ...\n",
              "81774     Erborian BB Family BB карандаш , светлый , 3 г             Erborian\n",
              "81775  Комплект модулей сменных фильтрующих Аквафор Р...              Аквафор\n",
              "81776  Набор менструальных чаш Satisfyer Feel secure ...            Satisfyer\n",
              "81777  28048 Подстилка для надувных и каркасных бассе...                Intex\n",
              "81778                    Трусы женские befree 2116302102               befree\n",
              "\n",
              "[81779 rows x 2 columns]"
            ],
            "text/html": [
              "\n",
              "  <div id=\"df-363415b6-1e3e-4f32-8064-54dcf7acd3c6\">\n",
              "    <div class=\"colab-df-container\">\n",
              "      <div>\n",
              "<style scoped>\n",
              "    .dataframe tbody tr th:only-of-type {\n",
              "        vertical-align: middle;\n",
              "    }\n",
              "\n",
              "    .dataframe tbody tr th {\n",
              "        vertical-align: top;\n",
              "    }\n",
              "\n",
              "    .dataframe thead th {\n",
              "        text-align: right;\n",
              "    }\n",
              "</style>\n",
              "<table border=\"1\" class=\"dataframe\">\n",
              "  <thead>\n",
              "    <tr style=\"text-align: right;\">\n",
              "      <th></th>\n",
              "      <th>name</th>\n",
              "      <th>brand</th>\n",
              "    </tr>\n",
              "  </thead>\n",
              "  <tbody>\n",
              "    <tr>\n",
              "      <th>0</th>\n",
              "      <td>Игровая консоль PlayStation 5 , белый</td>\n",
              "      <td>PlayStation</td>\n",
              "    </tr>\n",
              "    <tr>\n",
              "      <th>1</th>\n",
              "      <td>Золотой Шелк Маска для волос гиалуроновая кисл...</td>\n",
              "      <td>Золотой Шелк</td>\n",
              "    </tr>\n",
              "    <tr>\n",
              "      <th>2</th>\n",
              "      <td>Игровая консоль Microsoft Xbox Series X , черный</td>\n",
              "      <td>Microsoft</td>\n",
              "    </tr>\n",
              "    <tr>\n",
              "      <th>3</th>\n",
              "      <td>L ' Oreal Paris Infaillible 24H Fresh Wear Пуд...</td>\n",
              "      <td>L ' Oreal Paris</td>\n",
              "    </tr>\n",
              "    <tr>\n",
              "      <th>4</th>\n",
              "      <td>Maybelline New York Lifter Gloss Блеск для губ...</td>\n",
              "      <td>Maybelline New York</td>\n",
              "    </tr>\n",
              "    <tr>\n",
              "      <th>...</th>\n",
              "      <td>...</td>\n",
              "      <td>...</td>\n",
              "    </tr>\n",
              "    <tr>\n",
              "      <th>81774</th>\n",
              "      <td>Erborian BB Family BB карандаш , светлый , 3 г</td>\n",
              "      <td>Erborian</td>\n",
              "    </tr>\n",
              "    <tr>\n",
              "      <th>81775</th>\n",
              "      <td>Комплект модулей сменных фильтрующих Аквафор Р...</td>\n",
              "      <td>Аквафор</td>\n",
              "    </tr>\n",
              "    <tr>\n",
              "      <th>81776</th>\n",
              "      <td>Набор менструальных чаш Satisfyer Feel secure ...</td>\n",
              "      <td>Satisfyer</td>\n",
              "    </tr>\n",
              "    <tr>\n",
              "      <th>81777</th>\n",
              "      <td>28048 Подстилка для надувных и каркасных бассе...</td>\n",
              "      <td>Intex</td>\n",
              "    </tr>\n",
              "    <tr>\n",
              "      <th>81778</th>\n",
              "      <td>Трусы женские befree 2116302102</td>\n",
              "      <td>befree</td>\n",
              "    </tr>\n",
              "  </tbody>\n",
              "</table>\n",
              "<p>81779 rows × 2 columns</p>\n",
              "</div>\n",
              "      <button class=\"colab-df-convert\" onclick=\"convertToInteractive('df-363415b6-1e3e-4f32-8064-54dcf7acd3c6')\"\n",
              "              title=\"Convert this dataframe to an interactive table.\"\n",
              "              style=\"display:none;\">\n",
              "        \n",
              "  <svg xmlns=\"http://www.w3.org/2000/svg\" height=\"24px\"viewBox=\"0 0 24 24\"\n",
              "       width=\"24px\">\n",
              "    <path d=\"M0 0h24v24H0V0z\" fill=\"none\"/>\n",
              "    <path d=\"M18.56 5.44l.94 2.06.94-2.06 2.06-.94-2.06-.94-.94-2.06-.94 2.06-2.06.94zm-11 1L8.5 8.5l.94-2.06 2.06-.94-2.06-.94L8.5 2.5l-.94 2.06-2.06.94zm10 10l.94 2.06.94-2.06 2.06-.94-2.06-.94-.94-2.06-.94 2.06-2.06.94z\"/><path d=\"M17.41 7.96l-1.37-1.37c-.4-.4-.92-.59-1.43-.59-.52 0-1.04.2-1.43.59L10.3 9.45l-7.72 7.72c-.78.78-.78 2.05 0 2.83L4 21.41c.39.39.9.59 1.41.59.51 0 1.02-.2 1.41-.59l7.78-7.78 2.81-2.81c.8-.78.8-2.07 0-2.86zM5.41 20L4 18.59l7.72-7.72 1.47 1.35L5.41 20z\"/>\n",
              "  </svg>\n",
              "      </button>\n",
              "      \n",
              "  <style>\n",
              "    .colab-df-container {\n",
              "      display:flex;\n",
              "      flex-wrap:wrap;\n",
              "      gap: 12px;\n",
              "    }\n",
              "\n",
              "    .colab-df-convert {\n",
              "      background-color: #E8F0FE;\n",
              "      border: none;\n",
              "      border-radius: 50%;\n",
              "      cursor: pointer;\n",
              "      display: none;\n",
              "      fill: #1967D2;\n",
              "      height: 32px;\n",
              "      padding: 0 0 0 0;\n",
              "      width: 32px;\n",
              "    }\n",
              "\n",
              "    .colab-df-convert:hover {\n",
              "      background-color: #E2EBFA;\n",
              "      box-shadow: 0px 1px 2px rgba(60, 64, 67, 0.3), 0px 1px 3px 1px rgba(60, 64, 67, 0.15);\n",
              "      fill: #174EA6;\n",
              "    }\n",
              "\n",
              "    [theme=dark] .colab-df-convert {\n",
              "      background-color: #3B4455;\n",
              "      fill: #D2E3FC;\n",
              "    }\n",
              "\n",
              "    [theme=dark] .colab-df-convert:hover {\n",
              "      background-color: #434B5C;\n",
              "      box-shadow: 0px 1px 3px 1px rgba(0, 0, 0, 0.15);\n",
              "      filter: drop-shadow(0px 1px 2px rgba(0, 0, 0, 0.3));\n",
              "      fill: #FFFFFF;\n",
              "    }\n",
              "  </style>\n",
              "\n",
              "      <script>\n",
              "        const buttonEl =\n",
              "          document.querySelector('#df-363415b6-1e3e-4f32-8064-54dcf7acd3c6 button.colab-df-convert');\n",
              "        buttonEl.style.display =\n",
              "          google.colab.kernel.accessAllowed ? 'block' : 'none';\n",
              "\n",
              "        async function convertToInteractive(key) {\n",
              "          const element = document.querySelector('#df-363415b6-1e3e-4f32-8064-54dcf7acd3c6');\n",
              "          const dataTable =\n",
              "            await google.colab.kernel.invokeFunction('convertToInteractive',\n",
              "                                                     [key], {});\n",
              "          if (!dataTable) return;\n",
              "\n",
              "          const docLinkHtml = 'Like what you see? Visit the ' +\n",
              "            '<a target=\"_blank\" href=https://colab.research.google.com/notebooks/data_table.ipynb>data table notebook</a>'\n",
              "            + ' to learn more about interactive tables.';\n",
              "          element.innerHTML = '';\n",
              "          dataTable['output_type'] = 'display_data';\n",
              "          await google.colab.output.renderOutput(dataTable, element);\n",
              "          const docLink = document.createElement('div');\n",
              "          docLink.innerHTML = docLinkHtml;\n",
              "          element.appendChild(docLink);\n",
              "        }\n",
              "      </script>\n",
              "    </div>\n",
              "  </div>\n",
              "  "
            ]
          },
          "metadata": {},
          "execution_count": 7
        }
      ]
    },
    {
      "cell_type": "code",
      "source": [
        "import ru_core_news_lg\n",
        "nlp = ru_core_news_lg.load()"
      ],
      "metadata": {
        "id": "UhGHqU2EcAck"
      },
      "execution_count": 8,
      "outputs": []
    },
    {
      "cell_type": "code",
      "source": [
        "def make_tags(name, brand):\n",
        "  global tags\n",
        "  global ind\n",
        "  name_splt = nlp(name)\n",
        "  brand_splt = nlp(brand)\n",
        "  for i in name_splt:\n",
        "    for j in brand_splt:\n",
        "      # check for brand names that repeat words (e.g. M&M's)\n",
        "      if not tags or tags[-1][1].idx != i.idx:\n",
        "        if i.lower_ == j.lower_:\n",
        "          if j.i == 0:\n",
        "            # for multiple word brand names, we have to make sure what the word found is part of the brand name\n",
        "            if len(brand_splt) == 1: \n",
        "              tags.append([ind, i, 'B-BRAND'])\n",
        "            elif name_splt[i.i:].text.lower().startswith(brand_splt[j.i:].text.lower()):\n",
        "              tags.append([ind, i, 'B-BRAND'])\n",
        "            elif (j.i == len(brand_splt)-1) or (i.text not in brand_splt[j.i+1:].text.split()):\n",
        "              tags.append([ind, i, 'O'])\n",
        "          else: \n",
        "            if (\n",
        "                name_splt[:i.i].text.lower().endswith(brand_splt[:j.i].text.lower())\n",
        "                and\n",
        "                name_splt[i.i:].text.lower().startswith(brand_splt[j.i:].text.lower())\n",
        "              ):\n",
        "              tags.append([ind, i, 'I-BRAND'])\n",
        "            elif (j.i == len(brand_splt)-1) or (i.text not in brand_splt[j.i+1:].text.split()):\n",
        "              tags.append([ind, i, 'O'])\n",
        "    if i.lower_ not in brand.lower():\n",
        "      tags.append([ind, i, 'O'])\n",
        "  ind += 1\n",
        "  return tags"
      ],
      "metadata": {
        "id": "OnMk6FeKRL7h"
      },
      "execution_count": 9,
      "outputs": []
    },
    {
      "cell_type": "code",
      "source": [
        "tags = []\n",
        "ind = 0\n",
        "print(make_tags(\"Pure Paw Paw бальзам с ароматом клубники\", \"Pure Paw Paw\"))"
      ],
      "metadata": {
        "colab": {
          "base_uri": "https://localhost:8080/"
        },
        "id": "FkBDjxQJzaSp",
        "outputId": "bc2f1e04-cde5-4b2f-9fc5-68d76f6d1e06"
      },
      "execution_count": 10,
      "outputs": [
        {
          "output_type": "stream",
          "name": "stdout",
          "text": [
            "[[0, Pure, 'B-BRAND'], [0, Paw, 'I-BRAND'], [0, Paw, 'I-BRAND'], [0, бальзам, 'O'], [0, с, 'O'], [0, ароматом, 'O'], [0, клубники, 'O']]\n"
          ]
        }
      ]
    },
    {
      "cell_type": "code",
      "source": [
        "tags = []\n",
        "ind = 0\n",
        "nlp = spacy.load('ru_core_news_lg', disable=['ner', 'parser', 'tok2vec', 'attribute_ruler', 'morphologizer'])\n",
        "ds.progress_apply(lambda x: make_tags(x['name'], x['brand']), axis = 1)"
      ],
      "metadata": {
        "colab": {
          "base_uri": "https://localhost:8080/"
        },
        "id": "XsajF5IwSnBt",
        "outputId": "72895630-0498-41c4-df6a-f34b808d879a"
      },
      "execution_count": 11,
      "outputs": [
        {
          "output_type": "stream",
          "name": "stderr",
          "text": [
            "100%|██████████| 81779/81779 [04:10<00:00, 326.11it/s]\n"
          ]
        },
        {
          "output_type": "execute_result",
          "data": {
            "text/plain": [
              "0        [[0, Игровая, O], [0, консоль, O], [0, PlaySta...\n",
              "1        [[0, Игровая, O], [0, консоль, O], [0, PlaySta...\n",
              "2        [[0, Игровая, O], [0, консоль, O], [0, PlaySta...\n",
              "3        [[0, Игровая, O], [0, консоль, O], [0, PlaySta...\n",
              "4        [[0, Игровая, O], [0, консоль, O], [0, PlaySta...\n",
              "                               ...                        \n",
              "81774    [[0, Игровая, O], [0, консоль, O], [0, PlaySta...\n",
              "81775    [[0, Игровая, O], [0, консоль, O], [0, PlaySta...\n",
              "81776    [[0, Игровая, O], [0, консоль, O], [0, PlaySta...\n",
              "81777    [[0, Игровая, O], [0, консоль, O], [0, PlaySta...\n",
              "81778    [[0, Игровая, O], [0, консоль, O], [0, PlaySta...\n",
              "Length: 81779, dtype: object"
            ]
          },
          "metadata": {},
          "execution_count": 11
        }
      ]
    },
    {
      "cell_type": "code",
      "source": [
        "ds_IOB2 = pd.DataFrame(tags, columns = ['sent_id', 'token', 'label'])"
      ],
      "metadata": {
        "id": "B7YK_5I7VnVI"
      },
      "execution_count": 12,
      "outputs": []
    },
    {
      "cell_type": "code",
      "source": [
        "ds_IOB2"
      ],
      "metadata": {
        "id": "EiVwQEZseMKS",
        "colab": {
          "base_uri": "https://localhost:8080/",
          "height": 424
        },
        "outputId": "f35f1834-0781-4652-d602-6755ea8e6e57"
      },
      "execution_count": 13,
      "outputs": [
        {
          "output_type": "execute_result",
          "data": {
            "text/plain": [
              "         sent_id        token    label\n",
              "0              0      Игровая        O\n",
              "1              0      консоль        O\n",
              "2              0  PlayStation  B-BRAND\n",
              "3              0            5        O\n",
              "4              0            ,        O\n",
              "...          ...          ...      ...\n",
              "1073593    81777           см        O\n",
              "1073594    81778        Трусы        O\n",
              "1073595    81778      женские        O\n",
              "1073596    81778       befree  B-BRAND\n",
              "1073597    81778   2116302102        O\n",
              "\n",
              "[1073598 rows x 3 columns]"
            ],
            "text/html": [
              "\n",
              "  <div id=\"df-03caa6f8-e461-4c40-bedb-1e8a8c16f898\">\n",
              "    <div class=\"colab-df-container\">\n",
              "      <div>\n",
              "<style scoped>\n",
              "    .dataframe tbody tr th:only-of-type {\n",
              "        vertical-align: middle;\n",
              "    }\n",
              "\n",
              "    .dataframe tbody tr th {\n",
              "        vertical-align: top;\n",
              "    }\n",
              "\n",
              "    .dataframe thead th {\n",
              "        text-align: right;\n",
              "    }\n",
              "</style>\n",
              "<table border=\"1\" class=\"dataframe\">\n",
              "  <thead>\n",
              "    <tr style=\"text-align: right;\">\n",
              "      <th></th>\n",
              "      <th>sent_id</th>\n",
              "      <th>token</th>\n",
              "      <th>label</th>\n",
              "    </tr>\n",
              "  </thead>\n",
              "  <tbody>\n",
              "    <tr>\n",
              "      <th>0</th>\n",
              "      <td>0</td>\n",
              "      <td>Игровая</td>\n",
              "      <td>O</td>\n",
              "    </tr>\n",
              "    <tr>\n",
              "      <th>1</th>\n",
              "      <td>0</td>\n",
              "      <td>консоль</td>\n",
              "      <td>O</td>\n",
              "    </tr>\n",
              "    <tr>\n",
              "      <th>2</th>\n",
              "      <td>0</td>\n",
              "      <td>PlayStation</td>\n",
              "      <td>B-BRAND</td>\n",
              "    </tr>\n",
              "    <tr>\n",
              "      <th>3</th>\n",
              "      <td>0</td>\n",
              "      <td>5</td>\n",
              "      <td>O</td>\n",
              "    </tr>\n",
              "    <tr>\n",
              "      <th>4</th>\n",
              "      <td>0</td>\n",
              "      <td>,</td>\n",
              "      <td>O</td>\n",
              "    </tr>\n",
              "    <tr>\n",
              "      <th>...</th>\n",
              "      <td>...</td>\n",
              "      <td>...</td>\n",
              "      <td>...</td>\n",
              "    </tr>\n",
              "    <tr>\n",
              "      <th>1073593</th>\n",
              "      <td>81777</td>\n",
              "      <td>см</td>\n",
              "      <td>O</td>\n",
              "    </tr>\n",
              "    <tr>\n",
              "      <th>1073594</th>\n",
              "      <td>81778</td>\n",
              "      <td>Трусы</td>\n",
              "      <td>O</td>\n",
              "    </tr>\n",
              "    <tr>\n",
              "      <th>1073595</th>\n",
              "      <td>81778</td>\n",
              "      <td>женские</td>\n",
              "      <td>O</td>\n",
              "    </tr>\n",
              "    <tr>\n",
              "      <th>1073596</th>\n",
              "      <td>81778</td>\n",
              "      <td>befree</td>\n",
              "      <td>B-BRAND</td>\n",
              "    </tr>\n",
              "    <tr>\n",
              "      <th>1073597</th>\n",
              "      <td>81778</td>\n",
              "      <td>2116302102</td>\n",
              "      <td>O</td>\n",
              "    </tr>\n",
              "  </tbody>\n",
              "</table>\n",
              "<p>1073598 rows × 3 columns</p>\n",
              "</div>\n",
              "      <button class=\"colab-df-convert\" onclick=\"convertToInteractive('df-03caa6f8-e461-4c40-bedb-1e8a8c16f898')\"\n",
              "              title=\"Convert this dataframe to an interactive table.\"\n",
              "              style=\"display:none;\">\n",
              "        \n",
              "  <svg xmlns=\"http://www.w3.org/2000/svg\" height=\"24px\"viewBox=\"0 0 24 24\"\n",
              "       width=\"24px\">\n",
              "    <path d=\"M0 0h24v24H0V0z\" fill=\"none\"/>\n",
              "    <path d=\"M18.56 5.44l.94 2.06.94-2.06 2.06-.94-2.06-.94-.94-2.06-.94 2.06-2.06.94zm-11 1L8.5 8.5l.94-2.06 2.06-.94-2.06-.94L8.5 2.5l-.94 2.06-2.06.94zm10 10l.94 2.06.94-2.06 2.06-.94-2.06-.94-.94-2.06-.94 2.06-2.06.94z\"/><path d=\"M17.41 7.96l-1.37-1.37c-.4-.4-.92-.59-1.43-.59-.52 0-1.04.2-1.43.59L10.3 9.45l-7.72 7.72c-.78.78-.78 2.05 0 2.83L4 21.41c.39.39.9.59 1.41.59.51 0 1.02-.2 1.41-.59l7.78-7.78 2.81-2.81c.8-.78.8-2.07 0-2.86zM5.41 20L4 18.59l7.72-7.72 1.47 1.35L5.41 20z\"/>\n",
              "  </svg>\n",
              "      </button>\n",
              "      \n",
              "  <style>\n",
              "    .colab-df-container {\n",
              "      display:flex;\n",
              "      flex-wrap:wrap;\n",
              "      gap: 12px;\n",
              "    }\n",
              "\n",
              "    .colab-df-convert {\n",
              "      background-color: #E8F0FE;\n",
              "      border: none;\n",
              "      border-radius: 50%;\n",
              "      cursor: pointer;\n",
              "      display: none;\n",
              "      fill: #1967D2;\n",
              "      height: 32px;\n",
              "      padding: 0 0 0 0;\n",
              "      width: 32px;\n",
              "    }\n",
              "\n",
              "    .colab-df-convert:hover {\n",
              "      background-color: #E2EBFA;\n",
              "      box-shadow: 0px 1px 2px rgba(60, 64, 67, 0.3), 0px 1px 3px 1px rgba(60, 64, 67, 0.15);\n",
              "      fill: #174EA6;\n",
              "    }\n",
              "\n",
              "    [theme=dark] .colab-df-convert {\n",
              "      background-color: #3B4455;\n",
              "      fill: #D2E3FC;\n",
              "    }\n",
              "\n",
              "    [theme=dark] .colab-df-convert:hover {\n",
              "      background-color: #434B5C;\n",
              "      box-shadow: 0px 1px 3px 1px rgba(0, 0, 0, 0.15);\n",
              "      filter: drop-shadow(0px 1px 2px rgba(0, 0, 0, 0.3));\n",
              "      fill: #FFFFFF;\n",
              "    }\n",
              "  </style>\n",
              "\n",
              "      <script>\n",
              "        const buttonEl =\n",
              "          document.querySelector('#df-03caa6f8-e461-4c40-bedb-1e8a8c16f898 button.colab-df-convert');\n",
              "        buttonEl.style.display =\n",
              "          google.colab.kernel.accessAllowed ? 'block' : 'none';\n",
              "\n",
              "        async function convertToInteractive(key) {\n",
              "          const element = document.querySelector('#df-03caa6f8-e461-4c40-bedb-1e8a8c16f898');\n",
              "          const dataTable =\n",
              "            await google.colab.kernel.invokeFunction('convertToInteractive',\n",
              "                                                     [key], {});\n",
              "          if (!dataTable) return;\n",
              "\n",
              "          const docLinkHtml = 'Like what you see? Visit the ' +\n",
              "            '<a target=\"_blank\" href=https://colab.research.google.com/notebooks/data_table.ipynb>data table notebook</a>'\n",
              "            + ' to learn more about interactive tables.';\n",
              "          element.innerHTML = '';\n",
              "          dataTable['output_type'] = 'display_data';\n",
              "          await google.colab.output.renderOutput(dataTable, element);\n",
              "          const docLink = document.createElement('div');\n",
              "          docLink.innerHTML = docLinkHtml;\n",
              "          element.appendChild(docLink);\n",
              "        }\n",
              "      </script>\n",
              "    </div>\n",
              "  </div>\n",
              "  "
            ]
          },
          "metadata": {},
          "execution_count": 13
        }
      ]
    },
    {
      "cell_type": "code",
      "source": [
        "train, test = train_test_split(ds, test_size=0.2)"
      ],
      "metadata": {
        "id": "dUR3--qDw_hf"
      },
      "execution_count": 44,
      "outputs": []
    },
    {
      "cell_type": "code",
      "source": [
        "train.shape, test.shape"
      ],
      "metadata": {
        "id": "khu1qsafzAzn",
        "colab": {
          "base_uri": "https://localhost:8080/"
        },
        "outputId": "0709f9a4-21c1-4783-ff9c-186485ee9224"
      },
      "execution_count": 45,
      "outputs": [
        {
          "output_type": "execute_result",
          "data": {
            "text/plain": [
              "((65423, 2), (16356, 2))"
            ]
          },
          "metadata": {},
          "execution_count": 45
        }
      ]
    },
    {
      "cell_type": "code",
      "source": [
        "# train.to_csv('train_ozon.csv',index=False)\n",
        "# test.to_csv('test_ozon.csv',index=False)\n",
        "# dev.to_csv('dev_ozon.csv',index=False)"
      ],
      "metadata": {
        "id": "bTkSk7UL0CC4"
      },
      "execution_count": 16,
      "outputs": []
    },
    {
      "cell_type": "code",
      "source": [
        "train"
      ],
      "metadata": {
        "colab": {
          "base_uri": "https://localhost:8080/",
          "height": 424
        },
        "id": "rHJxGSIz2o9m",
        "outputId": "0e4f3187-591b-4d5b-c10a-e2a7606e6b6c"
      },
      "execution_count": 46,
      "outputs": [
        {
          "output_type": "execute_result",
          "data": {
            "text/plain": [
              "                                                    name            brand\n",
              "22953  Саженец Гортензия метельчатая Ваниль Фрайз / Л...  Агрофирма Поиск\n",
              "28477  Дневник школьный Феникс + \" АВОКАДО \" , интегр...         Феникс +\n",
              "31250                            PRITECH Депилятор 5 в 1          PRITECH\n",
              "44255  Babyzen Коляска прогулочная YOYO2 Blackрама че...          Babyzen\n",
              "41055  Сумка кросс - боди женская Tosca Blu , TF2082B...        Tosca Blu\n",
              "...                                                  ...              ...\n",
              "38833  Игровой набор Mattel Barbie Приключения Принце...           Barbie\n",
              "29989  Конфеты Детский сувенир Ассорти , в виде фигур...  Детский сувенир\n",
              "64175              Картина Экорамка Лев и львица , Холст         Экорамка\n",
              "54970  Tan Master , Крем для загара в солярии \" Green...       Tan Master\n",
              "5687               Морозильный ларь Бирюса 170KX , белый           Бирюса\n",
              "\n",
              "[65423 rows x 2 columns]"
            ],
            "text/html": [
              "\n",
              "  <div id=\"df-0f18b331-c1bc-443a-b781-d9f322e7d73d\">\n",
              "    <div class=\"colab-df-container\">\n",
              "      <div>\n",
              "<style scoped>\n",
              "    .dataframe tbody tr th:only-of-type {\n",
              "        vertical-align: middle;\n",
              "    }\n",
              "\n",
              "    .dataframe tbody tr th {\n",
              "        vertical-align: top;\n",
              "    }\n",
              "\n",
              "    .dataframe thead th {\n",
              "        text-align: right;\n",
              "    }\n",
              "</style>\n",
              "<table border=\"1\" class=\"dataframe\">\n",
              "  <thead>\n",
              "    <tr style=\"text-align: right;\">\n",
              "      <th></th>\n",
              "      <th>name</th>\n",
              "      <th>brand</th>\n",
              "    </tr>\n",
              "  </thead>\n",
              "  <tbody>\n",
              "    <tr>\n",
              "      <th>22953</th>\n",
              "      <td>Саженец Гортензия метельчатая Ваниль Фрайз / Л...</td>\n",
              "      <td>Агрофирма Поиск</td>\n",
              "    </tr>\n",
              "    <tr>\n",
              "      <th>28477</th>\n",
              "      <td>Дневник школьный Феникс + \" АВОКАДО \" , интегр...</td>\n",
              "      <td>Феникс +</td>\n",
              "    </tr>\n",
              "    <tr>\n",
              "      <th>31250</th>\n",
              "      <td>PRITECH Депилятор 5 в 1</td>\n",
              "      <td>PRITECH</td>\n",
              "    </tr>\n",
              "    <tr>\n",
              "      <th>44255</th>\n",
              "      <td>Babyzen Коляска прогулочная YOYO2 Blackрама че...</td>\n",
              "      <td>Babyzen</td>\n",
              "    </tr>\n",
              "    <tr>\n",
              "      <th>41055</th>\n",
              "      <td>Сумка кросс - боди женская Tosca Blu , TF2082B...</td>\n",
              "      <td>Tosca Blu</td>\n",
              "    </tr>\n",
              "    <tr>\n",
              "      <th>...</th>\n",
              "      <td>...</td>\n",
              "      <td>...</td>\n",
              "    </tr>\n",
              "    <tr>\n",
              "      <th>38833</th>\n",
              "      <td>Игровой набор Mattel Barbie Приключения Принце...</td>\n",
              "      <td>Barbie</td>\n",
              "    </tr>\n",
              "    <tr>\n",
              "      <th>29989</th>\n",
              "      <td>Конфеты Детский сувенир Ассорти , в виде фигур...</td>\n",
              "      <td>Детский сувенир</td>\n",
              "    </tr>\n",
              "    <tr>\n",
              "      <th>64175</th>\n",
              "      <td>Картина Экорамка Лев и львица , Холст</td>\n",
              "      <td>Экорамка</td>\n",
              "    </tr>\n",
              "    <tr>\n",
              "      <th>54970</th>\n",
              "      <td>Tan Master , Крем для загара в солярии \" Green...</td>\n",
              "      <td>Tan Master</td>\n",
              "    </tr>\n",
              "    <tr>\n",
              "      <th>5687</th>\n",
              "      <td>Морозильный ларь Бирюса 170KX , белый</td>\n",
              "      <td>Бирюса</td>\n",
              "    </tr>\n",
              "  </tbody>\n",
              "</table>\n",
              "<p>65423 rows × 2 columns</p>\n",
              "</div>\n",
              "      <button class=\"colab-df-convert\" onclick=\"convertToInteractive('df-0f18b331-c1bc-443a-b781-d9f322e7d73d')\"\n",
              "              title=\"Convert this dataframe to an interactive table.\"\n",
              "              style=\"display:none;\">\n",
              "        \n",
              "  <svg xmlns=\"http://www.w3.org/2000/svg\" height=\"24px\"viewBox=\"0 0 24 24\"\n",
              "       width=\"24px\">\n",
              "    <path d=\"M0 0h24v24H0V0z\" fill=\"none\"/>\n",
              "    <path d=\"M18.56 5.44l.94 2.06.94-2.06 2.06-.94-2.06-.94-.94-2.06-.94 2.06-2.06.94zm-11 1L8.5 8.5l.94-2.06 2.06-.94-2.06-.94L8.5 2.5l-.94 2.06-2.06.94zm10 10l.94 2.06.94-2.06 2.06-.94-2.06-.94-.94-2.06-.94 2.06-2.06.94z\"/><path d=\"M17.41 7.96l-1.37-1.37c-.4-.4-.92-.59-1.43-.59-.52 0-1.04.2-1.43.59L10.3 9.45l-7.72 7.72c-.78.78-.78 2.05 0 2.83L4 21.41c.39.39.9.59 1.41.59.51 0 1.02-.2 1.41-.59l7.78-7.78 2.81-2.81c.8-.78.8-2.07 0-2.86zM5.41 20L4 18.59l7.72-7.72 1.47 1.35L5.41 20z\"/>\n",
              "  </svg>\n",
              "      </button>\n",
              "      \n",
              "  <style>\n",
              "    .colab-df-container {\n",
              "      display:flex;\n",
              "      flex-wrap:wrap;\n",
              "      gap: 12px;\n",
              "    }\n",
              "\n",
              "    .colab-df-convert {\n",
              "      background-color: #E8F0FE;\n",
              "      border: none;\n",
              "      border-radius: 50%;\n",
              "      cursor: pointer;\n",
              "      display: none;\n",
              "      fill: #1967D2;\n",
              "      height: 32px;\n",
              "      padding: 0 0 0 0;\n",
              "      width: 32px;\n",
              "    }\n",
              "\n",
              "    .colab-df-convert:hover {\n",
              "      background-color: #E2EBFA;\n",
              "      box-shadow: 0px 1px 2px rgba(60, 64, 67, 0.3), 0px 1px 3px 1px rgba(60, 64, 67, 0.15);\n",
              "      fill: #174EA6;\n",
              "    }\n",
              "\n",
              "    [theme=dark] .colab-df-convert {\n",
              "      background-color: #3B4455;\n",
              "      fill: #D2E3FC;\n",
              "    }\n",
              "\n",
              "    [theme=dark] .colab-df-convert:hover {\n",
              "      background-color: #434B5C;\n",
              "      box-shadow: 0px 1px 3px 1px rgba(0, 0, 0, 0.15);\n",
              "      filter: drop-shadow(0px 1px 2px rgba(0, 0, 0, 0.3));\n",
              "      fill: #FFFFFF;\n",
              "    }\n",
              "  </style>\n",
              "\n",
              "      <script>\n",
              "        const buttonEl =\n",
              "          document.querySelector('#df-0f18b331-c1bc-443a-b781-d9f322e7d73d button.colab-df-convert');\n",
              "        buttonEl.style.display =\n",
              "          google.colab.kernel.accessAllowed ? 'block' : 'none';\n",
              "\n",
              "        async function convertToInteractive(key) {\n",
              "          const element = document.querySelector('#df-0f18b331-c1bc-443a-b781-d9f322e7d73d');\n",
              "          const dataTable =\n",
              "            await google.colab.kernel.invokeFunction('convertToInteractive',\n",
              "                                                     [key], {});\n",
              "          if (!dataTable) return;\n",
              "\n",
              "          const docLinkHtml = 'Like what you see? Visit the ' +\n",
              "            '<a target=\"_blank\" href=https://colab.research.google.com/notebooks/data_table.ipynb>data table notebook</a>'\n",
              "            + ' to learn more about interactive tables.';\n",
              "          element.innerHTML = '';\n",
              "          dataTable['output_type'] = 'display_data';\n",
              "          await google.colab.output.renderOutput(dataTable, element);\n",
              "          const docLink = document.createElement('div');\n",
              "          docLink.innerHTML = docLinkHtml;\n",
              "          element.appendChild(docLink);\n",
              "        }\n",
              "      </script>\n",
              "    </div>\n",
              "  </div>\n",
              "  "
            ]
          },
          "metadata": {},
          "execution_count": 46
        }
      ]
    },
    {
      "cell_type": "markdown",
      "source": [
        "Converting to spaCy format. We need brand start and end indices in the sentence"
      ],
      "metadata": {
        "id": "fQ0kQeJu9OHu"
      }
    },
    {
      "cell_type": "code",
      "source": [
        "brand_indices = {}\n",
        "sents = ds_IOB2.groupby('sent_id')\n",
        "\n",
        "cnt = 0\n",
        "failed = []\n",
        "for sent_id, sent in tqdm(sents):\n",
        "  start, end = -1, -1\n",
        "  text_list = sent['token'].tolist()\n",
        "  labels = sent['label'].tolist()\n",
        "  for n, token in enumerate(text_list):\n",
        "    if labels[n][0] == 'B':\n",
        "      start = token.idx\n",
        "      if n == len(labels)-1 or labels[n+1][0] == 'O':\n",
        "        # brand name is only one word\n",
        "        end = token.idx + len(token)\n",
        "    elif labels[n][0] == 'I' and (\n",
        "         n == len(labels)-1 or labels[n+1][0] == 'O'\n",
        "         ):\n",
        "      # brand name is multiple words\n",
        "      end = token.idx + len(token)\n",
        "  if start != -1 and end != -1:\n",
        "    if len(ds.iloc[sent_id]['brand']) == end-start:\n",
        "      brand_indices[sent_id] = {'brand': ds.iloc[sent_id]['brand'], 'ind': [start, end]}\n",
        "    else:\n",
        "      cnt += 1\n",
        "      failed.append(sent_id)\n",
        "    # assert len(ds.iloc[sent_id]['brand']) == end-start, f\"{sent}, \\ntarget {ds.iloc[sent_id]['brand']}, ind {start}, {end}\""
      ],
      "metadata": {
        "id": "wqrHdkYL9NMY",
        "colab": {
          "base_uri": "https://localhost:8080/"
        },
        "outputId": "0313c761-e31c-43da-ac01-6cd48e2da364"
      },
      "execution_count": 47,
      "outputs": [
        {
          "output_type": "stream",
          "name": "stderr",
          "text": [
            "100%|██████████| 81779/81779 [00:27<00:00, 2947.67it/s]\n"
          ]
        }
      ]
    },
    {
      "cell_type": "code",
      "source": [
        "# number of sentences where we couldn't successfully locate brand name\n",
        "cnt"
      ],
      "metadata": {
        "colab": {
          "base_uri": "https://localhost:8080/"
        },
        "id": "Bv_AuJi99vtY",
        "outputId": "88e64ea3-fa58-4a59-b783-734da4e4f66f"
      },
      "execution_count": 48,
      "outputs": [
        {
          "output_type": "execute_result",
          "data": {
            "text/plain": [
              "30"
            ]
          },
          "metadata": {},
          "execution_count": 48
        }
      ]
    },
    {
      "cell_type": "code",
      "source": [
        "nlp = spacy.load('ru_core_news_lg', disable=['ner', 'parser', 'tok2vec', 'attribute_ruler', 'morphologizer'])"
      ],
      "metadata": {
        "id": "ENJTYhgUO6q5"
      },
      "execution_count": 50,
      "outputs": []
    },
    {
      "cell_type": "code",
      "source": [
        "db = spacy.tokens.DocBin()\n",
        "train_id = train.index\n",
        "\n",
        "for idx in tqdm(train_id):\n",
        "  if idx in brand_indices.keys():\n",
        "    doc = nlp(train.loc[train.index == idx]['name'].tolist()[0])\n",
        "    ents = []\n",
        "    start, end = brand_indices[idx]['ind']\n",
        "    span = doc.char_span(start, end, label='BRAND')\n",
        "    ents.append(span)\n",
        "    doc.ents = ents\n",
        "    db.add(doc)"
      ],
      "metadata": {
        "colab": {
          "base_uri": "https://localhost:8080/"
        },
        "id": "0kEoEB_rweQn",
        "outputId": "2e697c5d-4fb9-4603-ba50-37873abfb379"
      },
      "execution_count": 51,
      "outputs": [
        {
          "output_type": "stream",
          "name": "stderr",
          "text": [
            "100%|██████████| 65423/65423 [03:37<00:00, 301.11it/s]\n"
          ]
        }
      ]
    },
    {
      "cell_type": "code",
      "source": [
        "db.to_disk('./train.spacy')"
      ],
      "metadata": {
        "id": "bxCNMj742Snl"
      },
      "execution_count": 52,
      "outputs": []
    },
    {
      "cell_type": "code",
      "source": [
        "db = spacy.tokens.DocBin()\n",
        "test_id = test.index\n",
        "\n",
        "for idx in tqdm(test_id):\n",
        "  if idx in brand_indices.keys():\n",
        "    doc = nlp(test.loc[test.index == idx]['name'].tolist()[0])\n",
        "    ents = []\n",
        "    start, end = brand_indices[idx]['ind']\n",
        "    span = doc.char_span(start, end, label='BRAND')\n",
        "    ents.append(span)\n",
        "    doc.ents = ents\n",
        "    db.add(doc)"
      ],
      "metadata": {
        "colab": {
          "base_uri": "https://localhost:8080/"
        },
        "id": "r4Os7vIf55Qn",
        "outputId": "27f350a6-e422-4186-e46f-39012403dec9"
      },
      "execution_count": 53,
      "outputs": [
        {
          "output_type": "stream",
          "name": "stderr",
          "text": [
            "100%|██████████| 16356/16356 [00:54<00:00, 302.79it/s]\n"
          ]
        }
      ]
    },
    {
      "cell_type": "code",
      "source": [
        "db.to_disk('./test.spacy')"
      ],
      "metadata": {
        "id": "Jm2vzvPR6NmF"
      },
      "execution_count": 54,
      "outputs": []
    },
    {
      "cell_type": "markdown",
      "source": [
        "we have a spacy-specific format for training. Now we can train our own spacy NER model to predict brands -- but first, we need custom vectors"
      ],
      "metadata": {
        "id": "pGJ9ZOLlznu4"
      }
    },
    {
      "cell_type": "markdown",
      "source": [
        "create embeddings with gensim"
      ],
      "metadata": {
        "id": "Zhz0ZJ7m9r-f"
      }
    },
    {
      "cell_type": "code",
      "source": [
        "!pip install gensim --upgrade\n",
        "\n",
        "import gensim"
      ],
      "metadata": {
        "colab": {
          "base_uri": "https://localhost:8080/"
        },
        "id": "ZGuh8tIX9s9r",
        "outputId": "fe6c991a-bdbe-46c1-b5d0-e023182d9089"
      },
      "execution_count": 55,
      "outputs": [
        {
          "output_type": "stream",
          "name": "stdout",
          "text": [
            "Looking in indexes: https://pypi.org/simple, https://us-python.pkg.dev/colab-wheels/public/simple/\n",
            "Requirement already satisfied: gensim in /usr/local/lib/python3.9/dist-packages (4.3.1)\n",
            "Requirement already satisfied: smart-open>=1.8.1 in /usr/local/lib/python3.9/dist-packages (from gensim) (6.3.0)\n",
            "Requirement already satisfied: numpy>=1.18.5 in /usr/local/lib/python3.9/dist-packages (from gensim) (1.22.4)\n",
            "Requirement already satisfied: scipy>=1.7.0 in /usr/local/lib/python3.9/dist-packages (from gensim) (1.10.1)\n"
          ]
        }
      ]
    },
    {
      "cell_type": "code",
      "source": [
        "titles = ds['name'].tolist()\n",
        "sequences = list(map(lambda x: x.split(), titles))"
      ],
      "metadata": {
        "id": "5oG6azhI-AVj"
      },
      "execution_count": 57,
      "outputs": []
    },
    {
      "cell_type": "code",
      "source": [
        "len(sequences)"
      ],
      "metadata": {
        "colab": {
          "base_uri": "https://localhost:8080/"
        },
        "id": "JYDN6hYA-DG2",
        "outputId": "478315d3-68e3-4c98-c4de-17bfde856b03"
      },
      "execution_count": 58,
      "outputs": [
        {
          "output_type": "execute_result",
          "data": {
            "text/plain": [
              "81779"
            ]
          },
          "metadata": {},
          "execution_count": 58
        }
      ]
    },
    {
      "cell_type": "code",
      "source": [
        "model = gensim.models.Word2Vec(sequences, min_count=2, vector_size=200, epochs=10)"
      ],
      "metadata": {
        "id": "3r-iXjeC-IQn"
      },
      "execution_count": 59,
      "outputs": []
    },
    {
      "cell_type": "code",
      "source": [
        "model.wv.most_similar('детская')"
      ],
      "metadata": {
        "colab": {
          "base_uri": "https://localhost:8080/"
        },
        "id": "71-voxm5-Mq2",
        "outputId": "75e7e1eb-85c0-4501-872d-4629d4d104b4"
      },
      "execution_count": 60,
      "outputs": [
        {
          "output_type": "execute_result",
          "data": {
            "text/plain": [
              "[('Кроватка', 0.7813319563865662),\n",
              " ('KIDS', 0.7598932981491089),\n",
              " ('Zlatek', 0.7516182661056519),\n",
              " ('кроватка', 0.7423455119132996),\n",
              " ('Горка', 0.7410983443260193),\n",
              " ('люлька', 0.7374770641326904),\n",
              " ('тапочки', 0.7322719097137451),\n",
              " ('Babycare', 0.7288285493850708),\n",
              " ('Детская', 0.7272439002990723),\n",
              " ('Itikka', 0.7264325022697449)]"
            ]
          },
          "metadata": {},
          "execution_count": 60
        }
      ]
    },
    {
      "cell_type": "code",
      "source": [
        "model.wv.similarity('Apple','Samsung')"
      ],
      "metadata": {
        "colab": {
          "base_uri": "https://localhost:8080/"
        },
        "id": "0bY4Z1fp-rNd",
        "outputId": "201b8e7f-adf9-4f62-d8cd-b38363728795"
      },
      "execution_count": 61,
      "outputs": [
        {
          "output_type": "execute_result",
          "data": {
            "text/plain": [
              "0.7742325"
            ]
          },
          "metadata": {},
          "execution_count": 61
        }
      ]
    },
    {
      "cell_type": "code",
      "source": [
        "model.wv.save_word2vec_format('embeddings.txt', binary=False)"
      ],
      "metadata": {
        "id": "sdTNiytf-_eW"
      },
      "execution_count": 62,
      "outputs": []
    },
    {
      "cell_type": "code",
      "source": [
        "!python -m spacy init vectors ru embeddings.txt spacy_embeddings --name title_vectors"
      ],
      "metadata": {
        "colab": {
          "base_uri": "https://localhost:8080/"
        },
        "id": "pmQw3iuY_Gg_",
        "outputId": "47e561a4-8120-4c26-bf0c-07ec326061d8"
      },
      "execution_count": 63,
      "outputs": [
        {
          "output_type": "stream",
          "name": "stdout",
          "text": [
            "/usr/local/lib/python3.9/dist-packages/torch/cuda/__init__.py:497: UserWarning: Can't initialize NVML\n",
            "  warnings.warn(\"Can't initialize NVML\")\n",
            "2023-03-21 17:40:01.481089: W tensorflow/compiler/xla/stream_executor/platform/default/dso_loader.cc:64] Could not load dynamic library 'libnvinfer.so.7'; dlerror: libnvinfer.so.7: cannot open shared object file: No such file or directory; LD_LIBRARY_PATH: /usr/local/nvidia/lib:/usr/local/nvidia/lib64\n",
            "2023-03-21 17:40:01.481294: W tensorflow/compiler/xla/stream_executor/platform/default/dso_loader.cc:64] Could not load dynamic library 'libnvinfer_plugin.so.7'; dlerror: libnvinfer_plugin.so.7: cannot open shared object file: No such file or directory; LD_LIBRARY_PATH: /usr/local/nvidia/lib:/usr/local/nvidia/lib64\n",
            "2023-03-21 17:40:01.481319: W tensorflow/compiler/tf2tensorrt/utils/py_utils.cc:38] TF-TRT Warning: Cannot dlopen some TensorRT libraries. If you would like to use Nvidia GPU with TensorRT, please make sure the missing libraries mentioned above are installed properly.\n",
            "2023-03-21 17:40:03.514178: E tensorflow/compiler/xla/stream_executor/cuda/cuda_driver.cc:267] failed call to cuInit: CUDA_ERROR_NO_DEVICE: no CUDA-capable device is detected\n",
            "\u001b[38;5;4mℹ Creating blank nlp object for language 'ru'\u001b[0m\n",
            "[2023-03-21 17:40:04,179] [INFO] Reading vectors from embeddings.txt\n",
            "42772it [00:02, 19612.29it/s]\n",
            "[2023-03-21 17:40:06,366] [INFO] Loaded vectors from embeddings.txt\n",
            "\u001b[38;5;2m✔ Successfully converted 42772 vectors\u001b[0m\n",
            "\u001b[38;5;2m✔ Saved nlp object with vectors to output directory. You can now use\n",
            "the path to it in your config as the 'vectors' setting in [initialize].\u001b[0m\n",
            "/content/spacy_embeddings\n"
          ]
        }
      ]
    },
    {
      "cell_type": "code",
      "source": [
        "nlp = spacy.load('spacy_embeddings')"
      ],
      "metadata": {
        "id": "PWIByvdoBMlI"
      },
      "execution_count": 64,
      "outputs": []
    },
    {
      "cell_type": "code",
      "source": [
        "nlp.add_pipe('ner')\n",
        "nlp.to_disk('spacy_embeddings')"
      ],
      "metadata": {
        "id": "QfbTpQFYBR4d"
      },
      "execution_count": 65,
      "outputs": []
    },
    {
      "cell_type": "code",
      "source": [
        "!python -m spacy train spacy_embeddings/config.cfg --output spacy_model --paths.train train.spacy --paths.dev test.spacy"
      ],
      "metadata": {
        "colab": {
          "base_uri": "https://localhost:8080/"
        },
        "id": "B6Kdd0SaBVid",
        "outputId": "0d3fee6b-c3e9-425b-9f5c-42da356a3340"
      },
      "execution_count": 68,
      "outputs": [
        {
          "output_type": "stream",
          "name": "stdout",
          "text": [
            "/usr/local/lib/python3.9/dist-packages/torch/cuda/__init__.py:497: UserWarning: Can't initialize NVML\n",
            "  warnings.warn(\"Can't initialize NVML\")\n",
            "2023-03-21 18:26:51.661006: W tensorflow/compiler/xla/stream_executor/platform/default/dso_loader.cc:64] Could not load dynamic library 'libnvinfer.so.7'; dlerror: libnvinfer.so.7: cannot open shared object file: No such file or directory; LD_LIBRARY_PATH: /usr/local/nvidia/lib:/usr/local/nvidia/lib64\n",
            "2023-03-21 18:26:51.661181: W tensorflow/compiler/xla/stream_executor/platform/default/dso_loader.cc:64] Could not load dynamic library 'libnvinfer_plugin.so.7'; dlerror: libnvinfer_plugin.so.7: cannot open shared object file: No such file or directory; LD_LIBRARY_PATH: /usr/local/nvidia/lib:/usr/local/nvidia/lib64\n",
            "2023-03-21 18:26:51.661210: W tensorflow/compiler/tf2tensorrt/utils/py_utils.cc:38] TF-TRT Warning: Cannot dlopen some TensorRT libraries. If you would like to use Nvidia GPU with TensorRT, please make sure the missing libraries mentioned above are installed properly.\n",
            "2023-03-21 18:26:53.863702: E tensorflow/compiler/xla/stream_executor/cuda/cuda_driver.cc:267] failed call to cuInit: CUDA_ERROR_NO_DEVICE: no CUDA-capable device is detected\n",
            "\u001b[38;5;4mℹ Saving to output directory: spacy_model\u001b[0m\n",
            "\u001b[38;5;4mℹ Using CPU\u001b[0m\n",
            "\u001b[1m\n",
            "=========================== Initializing pipeline ===========================\u001b[0m\n",
            "[2023-03-21 18:26:54,510] [INFO] Set up nlp object from config\n",
            "[2023-03-21 18:26:54,524] [INFO] Pipeline: ['ner']\n",
            "[2023-03-21 18:26:54,529] [INFO] Created vocabulary\n",
            "[2023-03-21 18:26:54,530] [INFO] Finished initializing nlp object\n",
            "[2023-03-21 18:27:18,791] [INFO] Initialized pipeline components: ['ner']\n",
            "\u001b[38;5;2m✔ Initialized pipeline\u001b[0m\n",
            "\u001b[1m\n",
            "============================= Training pipeline =============================\u001b[0m\n",
            "\u001b[38;5;4mℹ Pipeline: ['ner']\u001b[0m\n",
            "\u001b[38;5;4mℹ Initial learn rate: 0.001\u001b[0m\n",
            "E    #       LOSS NER  ENTS_F  ENTS_P  ENTS_R  SCORE \n",
            "---  ------  --------  ------  ------  ------  ------\n",
            "  0       0     45.33    0.00    0.00    0.00    0.00\n",
            "  0     500   4116.53   79.85   81.94   77.87    0.80\n",
            "  0    1000   3518.07   85.89   86.36   85.43    0.86\n",
            "  0    1500   4589.90   88.92   89.15   88.70    0.89\n",
            "  0    2000   6169.99   91.90   92.02   91.78    0.92\n",
            "  1    2500   6877.62   92.90   92.64   93.16    0.93\n",
            "  1    3000   6009.84   93.75   93.83   93.67    0.94\n",
            "  2    3500   4931.55   93.94   93.84   94.05    0.94\n",
            "  2    4000   4595.65   94.09   94.22   93.95    0.94\n",
            "\u001b[38;5;2m✔ Saved pipeline to output directory\u001b[0m\n",
            "spacy_model/model-last\n"
          ]
        }
      ]
    },
    {
      "cell_type": "code",
      "source": [
        "fin = spacy.load('spacy_model/model-last')"
      ],
      "metadata": {
        "id": "BhANqm_nV711"
      },
      "execution_count": 69,
      "outputs": []
    },
    {
      "cell_type": "code",
      "source": [
        "s = [\"Крем для рук Чистая линия\",\n",
        "     \"Крем для рук чистая линия\",\n",
        "     \"Видеокарта MSI GeForce 210 [N210-1GD3/LP]\",\n",
        "     \"Сок Добрый апельсин\",\n",
        "     \"Сок добрый апельсин\",\n",
        "     \"Сок Добрый Апельсин\"]\n",
        "for sent in s:\n",
        "  print(sent)\n",
        "  doc = fin(sent)\n",
        "  for ent in doc.ents:\n",
        "      print(ent.text, ent.start_char, ent.end_char, ent.label_)\n",
        "  print('\\n')"
      ],
      "metadata": {
        "colab": {
          "base_uri": "https://localhost:8080/"
        },
        "id": "hvGuEaKzd1Sn",
        "outputId": "9e5d92b6-2e9f-49d6-c5b9-d5b876567e8c"
      },
      "execution_count": 74,
      "outputs": [
        {
          "output_type": "stream",
          "name": "stdout",
          "text": [
            "Крем для рук Чистая линия\n",
            "Чистая линия 13 25 BRAND\n",
            "\n",
            "\n",
            "Крем для рук чистая линия\n",
            "\n",
            "\n",
            "Видеокарта MSI GeForce 210 [N210-1GD3/LP]\n",
            "MSI 11 14 BRAND\n",
            "\n",
            "\n",
            "Сок Добрый апельсин\n",
            "\n",
            "\n",
            "Сок добрый апельсин\n",
            "\n",
            "\n",
            "Сок Добрый Апельсин\n",
            "\n",
            "\n"
          ]
        }
      ]
    },
    {
      "cell_type": "code",
      "source": [
        "!zip -r /content/spacy_model.zip /content/spacy_model"
      ],
      "metadata": {
        "colab": {
          "base_uri": "https://localhost:8080/"
        },
        "id": "PunWjKJo2-X9",
        "outputId": "d0e6cb66-135d-4cdc-ac1f-dbbaa1f46ced"
      },
      "execution_count": 43,
      "outputs": [
        {
          "output_type": "stream",
          "name": "stdout",
          "text": [
            "  adding: content/spacy_model/ (stored 0%)\n",
            "  adding: content/spacy_model/model-last/ (stored 0%)\n",
            "  adding: content/spacy_model/model-last/meta.json (deflated 54%)\n",
            "  adding: content/spacy_model/model-last/vocab/ (stored 0%)\n",
            "  adding: content/spacy_model/model-last/vocab/lookups.bin (stored 0%)\n",
            "  adding: content/spacy_model/model-last/vocab/vectors.cfg (stored 0%)\n",
            "  adding: content/spacy_model/model-last/vocab/vectors (deflated 45%)\n",
            "  adding: content/spacy_model/model-last/vocab/strings.json (deflated 86%)\n",
            "  adding: content/spacy_model/model-last/vocab/key2row (stored 0%)\n",
            "  adding: content/spacy_model/model-last/config.cfg (deflated 59%)\n",
            "  adding: content/spacy_model/model-last/tokenizer (deflated 84%)\n",
            "  adding: content/spacy_model/model-last/ner/ (stored 0%)\n",
            "  adding: content/spacy_model/model-last/ner/model (deflated 8%)\n",
            "  adding: content/spacy_model/model-last/ner/moves (deflated 42%)\n",
            "  adding: content/spacy_model/model-last/ner/cfg (deflated 33%)\n",
            "  adding: content/spacy_model/model-best/ (stored 0%)\n",
            "  adding: content/spacy_model/model-best/meta.json (deflated 55%)\n",
            "  adding: content/spacy_model/model-best/vocab/ (stored 0%)\n",
            "  adding: content/spacy_model/model-best/vocab/lookups.bin (stored 0%)\n",
            "  adding: content/spacy_model/model-best/vocab/vectors.cfg (stored 0%)\n",
            "  adding: content/spacy_model/model-best/vocab/vectors (deflated 45%)\n",
            "  adding: content/spacy_model/model-best/vocab/strings.json (deflated 86%)\n",
            "  adding: content/spacy_model/model-best/vocab/key2row (stored 0%)\n",
            "  adding: content/spacy_model/model-best/config.cfg (deflated 59%)\n",
            "  adding: content/spacy_model/model-best/tokenizer (deflated 84%)\n",
            "  adding: content/spacy_model/model-best/ner/ (stored 0%)\n",
            "  adding: content/spacy_model/model-best/ner/model (deflated 8%)\n",
            "  adding: content/spacy_model/model-best/ner/moves (deflated 42%)\n",
            "  adding: content/spacy_model/model-best/ner/cfg (deflated 33%)\n"
          ]
        }
      ]
    }
  ]
}